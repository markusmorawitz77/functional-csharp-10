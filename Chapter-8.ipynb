{
 "cells": [
  {
   "cell_type": "code",
   "execution_count": 7,
   "metadata": {
    "dotnet_interactive": {
     "language": "csharp"
    },
    "polyglot_notebook": {
     "kernelName": "csharp"
    }
   },
   "outputs": [],
   "source": [
    "#r \"./Models/bin/Debug/net7.0/Models.dll\"\n",
    "#r \"./TestPersistence/bin/Debug/net7.0/TestPersistence.dll\""
   ]
  },
  {
   "cell_type": "code",
   "execution_count": 8,
   "metadata": {
    "dotnet_interactive": {
     "language": "csharp"
    },
    "polyglot_notebook": {
     "kernelName": "csharp"
    }
   },
   "outputs": [],
   "source": [
    "using TestPersistence;\n",
    "PartsReadRepository partsRepository = new();"
   ]
  },
  {
   "cell_type": "code",
   "execution_count": 9,
   "metadata": {
    "dotnet_interactive": {
     "language": "csharp"
    },
    "polyglot_notebook": {
     "kernelName": "csharp"
    }
   },
   "outputs": [
    {
     "data": {
      "text/html": [
       "<table><thead><tr><th><i>index</i></th><th>value</th></tr></thead><tbody><tr><td>0</td><td><details class=\"dni-treeview\"><summary><span class=\"dni-code-hint\"><code>Part { Id = 27f3e980-f037-4998-9fea-fdaab847b293, Name = Transistor BC547, Sku = StockKeepingUnit { Value = ELTRBC547 } }</code></span></summary><div><table><thead><tr></tr></thead><tbody><tr><td>Id</td><td><div class=\"dni-plaintext\"><pre>27f3e980-f037-4998-9fea-fdaab847b293</pre></div></td></tr><tr><td>Name</td><td>Transistor BC547</td></tr><tr><td>Sku</td><td><details class=\"dni-treeview\"><summary><span class=\"dni-code-hint\"><code>StockKeepingUnit { Value = ELTRBC547 }</code></span></summary><div><table><thead><tr></tr></thead><tbody><tr><td>Value</td><td>ELTRBC547</td></tr></tbody></table></div></details></td></tr></tbody></table></div></details></td></tr><tr><td>1</td><td><details class=\"dni-treeview\"><summary><span class=\"dni-code-hint\"><code>Part { Id = 5b485caf-f8d4-439b-a6ef-b68113f48923, Name = Resistor 1K, Sku = StockKeepingUnit { Value = ELRS1K } }</code></span></summary><div><table><thead><tr></tr></thead><tbody><tr><td>Id</td><td><div class=\"dni-plaintext\"><pre>5b485caf-f8d4-439b-a6ef-b68113f48923</pre></div></td></tr><tr><td>Name</td><td>Resistor 1K</td></tr><tr><td>Sku</td><td><details class=\"dni-treeview\"><summary><span class=\"dni-code-hint\"><code>StockKeepingUnit { Value = ELRS1K }</code></span></summary><div><table><thead><tr></tr></thead><tbody><tr><td>Value</td><td>ELRS1K</td></tr></tbody></table></div></details></td></tr></tbody></table></div></details></td></tr><tr><td>2</td><td><details class=\"dni-treeview\"><summary><span class=\"dni-code-hint\"><code>Part { Id = 188b38f1-ac25-4077-adc0-45b046c58440, Name = Resistor 100K, Sku = StockKeepingUnit { Value = ELRS100K } }</code></span></summary><div><table><thead><tr></tr></thead><tbody><tr><td>Id</td><td><div class=\"dni-plaintext\"><pre>188b38f1-ac25-4077-adc0-45b046c58440</pre></div></td></tr><tr><td>Name</td><td>Resistor 100K</td></tr><tr><td>Sku</td><td><details class=\"dni-treeview\"><summary><span class=\"dni-code-hint\"><code>StockKeepingUnit { Value = ELRS100K }</code></span></summary><div><table><thead><tr></tr></thead><tbody><tr><td>Value</td><td>ELRS100K</td></tr></tbody></table></div></details></td></tr></tbody></table></div></details></td></tr><tr><td>3</td><td><details class=\"dni-treeview\"><summary><span class=\"dni-code-hint\"><code>Part { Id = 866347ea-5a6f-4917-9183-c362d2d49cda, Name = Resistor 33K, Sku = StockKeepingUnit { Value = ELRS33K } }</code></span></summary><div><table><thead><tr></tr></thead><tbody><tr><td>Id</td><td><div class=\"dni-plaintext\"><pre>866347ea-5a6f-4917-9183-c362d2d49cda</pre></div></td></tr><tr><td>Name</td><td>Resistor 33K</td></tr><tr><td>Sku</td><td><details class=\"dni-treeview\"><summary><span class=\"dni-code-hint\"><code>StockKeepingUnit { Value = ELRS33K }</code></span></summary><div><table><thead><tr></tr></thead><tbody><tr><td>Value</td><td>ELRS33K</td></tr></tbody></table></div></details></td></tr></tbody></table></div></details></td></tr><tr><td>4</td><td><details class=\"dni-treeview\"><summary><span class=\"dni-code-hint\"><code>Part { Id = c1d47e1e-01e8-4b20-9edd-e11dcefee8a2, Name = LED Red 3V, Sku = StockKeepingUnit { Value = ELLD3VRED } }</code></span></summary><div><table><thead><tr></tr></thead><tbody><tr><td>Id</td><td><div class=\"dni-plaintext\"><pre>c1d47e1e-01e8-4b20-9edd-e11dcefee8a2</pre></div></td></tr><tr><td>Name</td><td>LED Red 3V</td></tr><tr><td>Sku</td><td><details class=\"dni-treeview\"><summary><span class=\"dni-code-hint\"><code>StockKeepingUnit { Value = ELLD3VRED }</code></span></summary><div><table><thead><tr></tr></thead><tbody><tr><td>Value</td><td>ELLD3VRED</td></tr></tbody></table></div></details></td></tr></tbody></table></div></details></td></tr><tr><td>5</td><td><details class=\"dni-treeview\"><summary><span class=\"dni-code-hint\"><code>Part { Id = 81fec83a-7a1d-4f79-92b8-c30be4f82f5e, Name = LED Yellow 3V, Sku = StockKeepingUnit { Value = ELLD3VYELLOW } }</code></span></summary><div><table><thead><tr></tr></thead><tbody><tr><td>Id</td><td><div class=\"dni-plaintext\"><pre>81fec83a-7a1d-4f79-92b8-c30be4f82f5e</pre></div></td></tr><tr><td>Name</td><td>LED Yellow 3V</td></tr><tr><td>Sku</td><td><details class=\"dni-treeview\"><summary><span class=\"dni-code-hint\"><code>StockKeepingUnit { Value = ELLD3VYELLOW }</code></span></summary><div><table><thead><tr></tr></thead><tbody><tr><td>Value</td><td>ELLD3VYELLOW</td></tr></tbody></table></div></details></td></tr></tbody></table></div></details></td></tr><tr><td>6</td><td><details class=\"dni-treeview\"><summary><span class=\"dni-code-hint\"><code>Part { Id = 1d6f9a02-0167-446f-8d85-c68529752a3e, Name = LED Green 3V, Sku = StockKeepingUnit { Value = ELLD3VGREEN } }</code></span></summary><div><table><thead><tr></tr></thead><tbody><tr><td>Id</td><td><div class=\"dni-plaintext\"><pre>1d6f9a02-0167-446f-8d85-c68529752a3e</pre></div></td></tr><tr><td>Name</td><td>LED Green 3V</td></tr><tr><td>Sku</td><td><details class=\"dni-treeview\"><summary><span class=\"dni-code-hint\"><code>StockKeepingUnit { Value = ELLD3VGREEN }</code></span></summary><div><table><thead><tr></tr></thead><tbody><tr><td>Value</td><td>ELLD3VGREEN</td></tr></tbody></table></div></details></td></tr></tbody></table></div></details></td></tr><tr><td>7</td><td><details class=\"dni-treeview\"><summary><span class=\"dni-code-hint\"><code>Part { Id = 50d1283e-9944-49c6-be5c-07f5bc579c20, Name = Capacitor 470uF 25V, Sku = StockKeepingUnit { Value = ELCP470UF25V } }</code></span></summary><div><table><thead><tr></tr></thead><tbody><tr><td>Id</td><td><div class=\"dni-plaintext\"><pre>50d1283e-9944-49c6-be5c-07f5bc579c20</pre></div></td></tr><tr><td>Name</td><td>Capacitor 470uF 25V</td></tr><tr><td>Sku</td><td><details class=\"dni-treeview\"><summary><span class=\"dni-code-hint\"><code>StockKeepingUnit { Value = ELCP470UF25V }</code></span></summary><div><table><thead><tr></tr></thead><tbody><tr><td>Value</td><td>ELCP470UF25V</td></tr></tbody></table></div></details></td></tr></tbody></table></div></details></td></tr><tr><td>8</td><td><details class=\"dni-treeview\"><summary><span class=\"dni-code-hint\"><code>Part { Id = 43074505-f12c-43a5-b8e8-8ee280a64df7, Name = Capacitor 100uF 25V, Sku = StockKeepingUnit { Value = ELCP100UF25V } }</code></span></summary><div><table><thead><tr></tr></thead><tbody><tr><td>Id</td><td><div class=\"dni-plaintext\"><pre>43074505-f12c-43a5-b8e8-8ee280a64df7</pre></div></td></tr><tr><td>Name</td><td>Capacitor 100uF 25V</td></tr><tr><td>Sku</td><td><details class=\"dni-treeview\"><summary><span class=\"dni-code-hint\"><code>StockKeepingUnit { Value = ELCP100UF25V }</code></span></summary><div><table><thead><tr></tr></thead><tbody><tr><td>Value</td><td>ELCP100UF25V</td></tr></tbody></table></div></details></td></tr></tbody></table></div></details></td></tr><tr><td>9</td><td><details class=\"dni-treeview\"><summary><span class=\"dni-code-hint\"><code>Part { Id = 340f2209-fa93-4564-afbd-90fa04cdd1f0, Name = Battery 9V, Sku = StockKeepingUnit { Value = BT9V } }</code></span></summary><div><table><thead><tr></tr></thead><tbody><tr><td>Id</td><td><div class=\"dni-plaintext\"><pre>340f2209-fa93-4564-afbd-90fa04cdd1f0</pre></div></td></tr><tr><td>Name</td><td>Battery 9V</td></tr><tr><td>Sku</td><td><details class=\"dni-treeview\"><summary><span class=\"dni-code-hint\"><code>StockKeepingUnit { Value = BT9V }</code></span></summary><div><table><thead><tr></tr></thead><tbody><tr><td>Value</td><td>BT9V</td></tr></tbody></table></div></details></td></tr></tbody></table></div></details></td></tr><tr><td>10</td><td><details class=\"dni-treeview\"><summary><span class=\"dni-code-hint\"><code>Part { Id = 840b104e-2ef1-46f9-8ee5-cfdc19a16fb1, Name = Battery clipper Type A, Sku = StockKeepingUnit { Value = BTCLA } }</code></span></summary><div><table><thead><tr></tr></thead><tbody><tr><td>Id</td><td><div class=\"dni-plaintext\"><pre>840b104e-2ef1-46f9-8ee5-cfdc19a16fb1</pre></div></td></tr><tr><td>Name</td><td>Battery clipper Type A</td></tr><tr><td>Sku</td><td><details class=\"dni-treeview\"><summary><span class=\"dni-code-hint\"><code>StockKeepingUnit { Value = BTCLA }</code></span></summary><div><table><thead><tr></tr></thead><tbody><tr><td>Value</td><td>BTCLA</td></tr></tbody></table></div></details></td></tr></tbody></table></div></details></td></tr></tbody></table><style>\r\n",
       ".dni-code-hint {\r\n",
       "    font-style: italic;\r\n",
       "    overflow: hidden;\r\n",
       "    white-space: nowrap;\r\n",
       "}\r\n",
       ".dni-treeview {\r\n",
       "    white-space: nowrap;\r\n",
       "}\r\n",
       ".dni-treeview td {\r\n",
       "    vertical-align: top;\r\n",
       "    text-align: start;\r\n",
       "}\r\n",
       "details.dni-treeview {\r\n",
       "    padding-left: 1em;\r\n",
       "}\r\n",
       "table td {\r\n",
       "    text-align: start;\r\n",
       "}\r\n",
       "table tr { \r\n",
       "    vertical-align: top; \r\n",
       "    margin: 0em 0px;\r\n",
       "}\r\n",
       "table tr td pre \r\n",
       "{ \r\n",
       "    vertical-align: top !important; \r\n",
       "    margin: 0em 0px !important;\r\n",
       "} \r\n",
       "table th {\r\n",
       "    text-align: start;\r\n",
       "}\r\n",
       "</style>"
      ]
     },
     "metadata": {},
     "output_type": "display_data"
    }
   ],
   "source": [
    "partsRepository.GetAll()"
   ]
  },
  {
   "cell_type": "code",
   "execution_count": 14,
   "metadata": {
    "dotnet_interactive": {
     "language": "csharp"
    },
    "polyglot_notebook": {
     "kernelName": "csharp"
    }
   },
   "outputs": [
    {
     "data": {
      "text/html": [
       "<table><thead><tr><th><i>index</i></th><th>value</th></tr></thead><tbody><tr><td>0</td><td><details class=\"dni-treeview\"><summary><span class=\"dni-code-hint\"><code>Part { Id = 27f3e980-f037-4998-9fea-fdaab847b293, Name = Transistor BC547, Sku = StockKeepingUnit { Value = ELTRBC547 } }</code></span></summary><div><table><thead><tr></tr></thead><tbody><tr><td>Id</td><td><div class=\"dni-plaintext\"><pre>27f3e980-f037-4998-9fea-fdaab847b293</pre></div></td></tr><tr><td>Name</td><td>Transistor BC547</td></tr><tr><td>Sku</td><td><details class=\"dni-treeview\"><summary><span class=\"dni-code-hint\"><code>StockKeepingUnit { Value = ELTRBC547 }</code></span></summary><div><table><thead><tr></tr></thead><tbody><tr><td>Value</td><td>ELTRBC547</td></tr></tbody></table></div></details></td></tr></tbody></table></div></details></td></tr></tbody></table><style>\r\n",
       ".dni-code-hint {\r\n",
       "    font-style: italic;\r\n",
       "    overflow: hidden;\r\n",
       "    white-space: nowrap;\r\n",
       "}\r\n",
       ".dni-treeview {\r\n",
       "    white-space: nowrap;\r\n",
       "}\r\n",
       ".dni-treeview td {\r\n",
       "    vertical-align: top;\r\n",
       "    text-align: start;\r\n",
       "}\r\n",
       "details.dni-treeview {\r\n",
       "    padding-left: 1em;\r\n",
       "}\r\n",
       "table td {\r\n",
       "    text-align: start;\r\n",
       "}\r\n",
       "table tr { \r\n",
       "    vertical-align: top; \r\n",
       "    margin: 0em 0px;\r\n",
       "}\r\n",
       "table tr td pre \r\n",
       "{ \r\n",
       "    vertical-align: top !important; \r\n",
       "    margin: 0em 0px !important;\r\n",
       "} \r\n",
       "table th {\r\n",
       "    text-align: start;\r\n",
       "}\r\n",
       "</style>"
      ]
     },
     "metadata": {},
     "output_type": "display_data"
    }
   ],
   "source": [
    "partsRepository.TryFind(partsRepository.GetAll().First().Id)"
   ]
  },
  {
   "cell_type": "code",
   "execution_count": 15,
   "metadata": {
    "dotnet_interactive": {
     "language": "csharp"
    },
    "polyglot_notebook": {
     "kernelName": "csharp"
    }
   },
   "outputs": [
    {
     "data": {
      "text/html": [
       "<i>(empty)</i><style>\r\n",
       ".dni-code-hint {\r\n",
       "    font-style: italic;\r\n",
       "    overflow: hidden;\r\n",
       "    white-space: nowrap;\r\n",
       "}\r\n",
       ".dni-treeview {\r\n",
       "    white-space: nowrap;\r\n",
       "}\r\n",
       ".dni-treeview td {\r\n",
       "    vertical-align: top;\r\n",
       "    text-align: start;\r\n",
       "}\r\n",
       "details.dni-treeview {\r\n",
       "    padding-left: 1em;\r\n",
       "}\r\n",
       "table td {\r\n",
       "    text-align: start;\r\n",
       "}\r\n",
       "table tr { \r\n",
       "    vertical-align: top; \r\n",
       "    margin: 0em 0px;\r\n",
       "}\r\n",
       "table tr td pre \r\n",
       "{ \r\n",
       "    vertical-align: top !important; \r\n",
       "    margin: 0em 0px !important;\r\n",
       "} \r\n",
       "table th {\r\n",
       "    text-align: start;\r\n",
       "}\r\n",
       "</style>"
      ]
     },
     "metadata": {},
     "output_type": "display_data"
    }
   ],
   "source": [
    "partsRepository.TryFind(new Guid(\"b3441757-1a73-4271-9d91-5c0bd48cf537\"))"
   ]
  },
  {
   "cell_type": "code",
   "execution_count": 12,
   "metadata": {
    "dotnet_interactive": {
     "language": "csharp"
    },
    "polyglot_notebook": {
     "kernelName": "csharp"
    }
   },
   "outputs": [],
   "source": []
  }
 ],
 "metadata": {
  "kernelspec": {
   "display_name": ".NET (C#)",
   "language": "C#",
   "name": ".net-csharp"
  },
  "language_info": {
   "name": "polyglot-notebook"
  },
  "polyglot_notebook": {
   "kernelInfo": {
    "defaultKernelName": "csharp",
    "items": [
     {
      "aliases": [],
      "languageName": "csharp",
      "name": "csharp"
     }
    ]
   }
  }
 },
 "nbformat": 4,
 "nbformat_minor": 2
}
