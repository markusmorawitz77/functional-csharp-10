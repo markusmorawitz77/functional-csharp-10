{
 "cells": [
  {
   "cell_type": "code",
   "execution_count": 7,
   "metadata": {
    "dotnet_interactive": {
     "language": "csharp"
    },
    "polyglot_notebook": {
     "kernelName": "csharp"
    }
   },
   "outputs": [],
   "source": [
    "#r \"./Models/bin/Debug/net7.0/Models.dll\"\n",
    "#r \"./TestPersistence/bin/Debug/net7.0/TestPersistence.dll\""
   ]
  },
  {
   "cell_type": "code",
   "execution_count": 8,
   "metadata": {
    "dotnet_interactive": {
     "language": "csharp"
    },
    "polyglot_notebook": {
     "kernelName": "csharp"
    }
   },
   "outputs": [],
   "source": [
    "using TestPersistence;\n",
    "PartsReadRepository partsRepository = new();"
   ]
  },
  {
   "cell_type": "code",
   "execution_count": 9,
   "metadata": {
    "dotnet_interactive": {
     "language": "csharp"
    },
    "polyglot_notebook": {
     "kernelName": "csharp"
    }
   },
   "outputs": [
    {
     "data": {
      "text/html": [
       "<table><thead><tr><th><i>index</i></th><th>value</th></tr></thead><tbody><tr><td>0</td><td><details class=\"dni-treeview\"><summary><span class=\"dni-code-hint\"><code>Part { Id = 3e165b96-079d-4a96-b077-e672b595d285, Name = Transistor BC547, Sku = StockKeepingUnit { Value = ELTRBC547 } }</code></span></summary><div><table><thead><tr></tr></thead><tbody><tr><td>Id</td><td><div class=\"dni-plaintext\"><pre>3e165b96-079d-4a96-b077-e672b595d285</pre></div></td></tr><tr><td>Name</td><td>Transistor BC547</td></tr><tr><td>Sku</td><td><details class=\"dni-treeview\"><summary><span class=\"dni-code-hint\"><code>StockKeepingUnit { Value = ELTRBC547 }</code></span></summary><div><table><thead><tr></tr></thead><tbody><tr><td>Value</td><td>ELTRBC547</td></tr></tbody></table></div></details></td></tr></tbody></table></div></details></td></tr><tr><td>1</td><td><details class=\"dni-treeview\"><summary><span class=\"dni-code-hint\"><code>Part { Id = ca8246a0-8177-4c3d-9e35-4d5ac1dc1d60, Name = Resistor 1K, Sku = StockKeepingUnit { Value = ELRS1K } }</code></span></summary><div><table><thead><tr></tr></thead><tbody><tr><td>Id</td><td><div class=\"dni-plaintext\"><pre>ca8246a0-8177-4c3d-9e35-4d5ac1dc1d60</pre></div></td></tr><tr><td>Name</td><td>Resistor 1K</td></tr><tr><td>Sku</td><td><details class=\"dni-treeview\"><summary><span class=\"dni-code-hint\"><code>StockKeepingUnit { Value = ELRS1K }</code></span></summary><div><table><thead><tr></tr></thead><tbody><tr><td>Value</td><td>ELRS1K</td></tr></tbody></table></div></details></td></tr></tbody></table></div></details></td></tr><tr><td>2</td><td><details class=\"dni-treeview\"><summary><span class=\"dni-code-hint\"><code>Part { Id = 4ca54a2e-9c13-450e-af63-93fc7f90c293, Name = Resistor 100K, Sku = StockKeepingUnit { Value = ELRS100K } }</code></span></summary><div><table><thead><tr></tr></thead><tbody><tr><td>Id</td><td><div class=\"dni-plaintext\"><pre>4ca54a2e-9c13-450e-af63-93fc7f90c293</pre></div></td></tr><tr><td>Name</td><td>Resistor 100K</td></tr><tr><td>Sku</td><td><details class=\"dni-treeview\"><summary><span class=\"dni-code-hint\"><code>StockKeepingUnit { Value = ELRS100K }</code></span></summary><div><table><thead><tr></tr></thead><tbody><tr><td>Value</td><td>ELRS100K</td></tr></tbody></table></div></details></td></tr></tbody></table></div></details></td></tr><tr><td>3</td><td><details class=\"dni-treeview\"><summary><span class=\"dni-code-hint\"><code>Part { Id = f6fc52b5-18e7-4467-8795-7931a2c27495, Name = Resistor 33K, Sku = StockKeepingUnit { Value = ELRS33K } }</code></span></summary><div><table><thead><tr></tr></thead><tbody><tr><td>Id</td><td><div class=\"dni-plaintext\"><pre>f6fc52b5-18e7-4467-8795-7931a2c27495</pre></div></td></tr><tr><td>Name</td><td>Resistor 33K</td></tr><tr><td>Sku</td><td><details class=\"dni-treeview\"><summary><span class=\"dni-code-hint\"><code>StockKeepingUnit { Value = ELRS33K }</code></span></summary><div><table><thead><tr></tr></thead><tbody><tr><td>Value</td><td>ELRS33K</td></tr></tbody></table></div></details></td></tr></tbody></table></div></details></td></tr><tr><td>4</td><td><details class=\"dni-treeview\"><summary><span class=\"dni-code-hint\"><code>Part { Id = 3bc0e84e-1a41-48bf-88e6-cd2a2c6cd19f, Name = LED Red 3V, Sku = StockKeepingUnit { Value = ELLD3VRED } }</code></span></summary><div><table><thead><tr></tr></thead><tbody><tr><td>Id</td><td><div class=\"dni-plaintext\"><pre>3bc0e84e-1a41-48bf-88e6-cd2a2c6cd19f</pre></div></td></tr><tr><td>Name</td><td>LED Red 3V</td></tr><tr><td>Sku</td><td><details class=\"dni-treeview\"><summary><span class=\"dni-code-hint\"><code>StockKeepingUnit { Value = ELLD3VRED }</code></span></summary><div><table><thead><tr></tr></thead><tbody><tr><td>Value</td><td>ELLD3VRED</td></tr></tbody></table></div></details></td></tr></tbody></table></div></details></td></tr><tr><td>5</td><td><details class=\"dni-treeview\"><summary><span class=\"dni-code-hint\"><code>Part { Id = 59b89da6-4c02-42f5-a18e-45d1881e5958, Name = LED Yellow 3V, Sku = StockKeepingUnit { Value = ELLD3VYELLOW } }</code></span></summary><div><table><thead><tr></tr></thead><tbody><tr><td>Id</td><td><div class=\"dni-plaintext\"><pre>59b89da6-4c02-42f5-a18e-45d1881e5958</pre></div></td></tr><tr><td>Name</td><td>LED Yellow 3V</td></tr><tr><td>Sku</td><td><details class=\"dni-treeview\"><summary><span class=\"dni-code-hint\"><code>StockKeepingUnit { Value = ELLD3VYELLOW }</code></span></summary><div><table><thead><tr></tr></thead><tbody><tr><td>Value</td><td>ELLD3VYELLOW</td></tr></tbody></table></div></details></td></tr></tbody></table></div></details></td></tr><tr><td>6</td><td><details class=\"dni-treeview\"><summary><span class=\"dni-code-hint\"><code>Part { Id = 68ec171b-1ac4-423c-a0ee-034e944ae614, Name = LED Green 3V, Sku = StockKeepingUnit { Value = ELLD3VGREEN } }</code></span></summary><div><table><thead><tr></tr></thead><tbody><tr><td>Id</td><td><div class=\"dni-plaintext\"><pre>68ec171b-1ac4-423c-a0ee-034e944ae614</pre></div></td></tr><tr><td>Name</td><td>LED Green 3V</td></tr><tr><td>Sku</td><td><details class=\"dni-treeview\"><summary><span class=\"dni-code-hint\"><code>StockKeepingUnit { Value = ELLD3VGREEN }</code></span></summary><div><table><thead><tr></tr></thead><tbody><tr><td>Value</td><td>ELLD3VGREEN</td></tr></tbody></table></div></details></td></tr></tbody></table></div></details></td></tr><tr><td>7</td><td><details class=\"dni-treeview\"><summary><span class=\"dni-code-hint\"><code>Part { Id = 5da1a6f6-c696-46d8-a82c-295011d5e30a, Name = Capacitor 470uF 25V, Sku = StockKeepingUnit { Value = ELCP470UF25V } }</code></span></summary><div><table><thead><tr></tr></thead><tbody><tr><td>Id</td><td><div class=\"dni-plaintext\"><pre>5da1a6f6-c696-46d8-a82c-295011d5e30a</pre></div></td></tr><tr><td>Name</td><td>Capacitor 470uF 25V</td></tr><tr><td>Sku</td><td><details class=\"dni-treeview\"><summary><span class=\"dni-code-hint\"><code>StockKeepingUnit { Value = ELCP470UF25V }</code></span></summary><div><table><thead><tr></tr></thead><tbody><tr><td>Value</td><td>ELCP470UF25V</td></tr></tbody></table></div></details></td></tr></tbody></table></div></details></td></tr><tr><td>8</td><td><details class=\"dni-treeview\"><summary><span class=\"dni-code-hint\"><code>Part { Id = a61af58d-d9ac-493e-9a77-724b484d4e00, Name = Capacitor 100uF 25V, Sku = StockKeepingUnit { Value = ELCP100UF25V } }</code></span></summary><div><table><thead><tr></tr></thead><tbody><tr><td>Id</td><td><div class=\"dni-plaintext\"><pre>a61af58d-d9ac-493e-9a77-724b484d4e00</pre></div></td></tr><tr><td>Name</td><td>Capacitor 100uF 25V</td></tr><tr><td>Sku</td><td><details class=\"dni-treeview\"><summary><span class=\"dni-code-hint\"><code>StockKeepingUnit { Value = ELCP100UF25V }</code></span></summary><div><table><thead><tr></tr></thead><tbody><tr><td>Value</td><td>ELCP100UF25V</td></tr></tbody></table></div></details></td></tr></tbody></table></div></details></td></tr><tr><td>9</td><td><details class=\"dni-treeview\"><summary><span class=\"dni-code-hint\"><code>Part { Id = 6ca90575-4ebd-41cf-ac77-33a3489a69ff, Name = Battery 9V, Sku = StockKeepingUnit { Value = BT9V } }</code></span></summary><div><table><thead><tr></tr></thead><tbody><tr><td>Id</td><td><div class=\"dni-plaintext\"><pre>6ca90575-4ebd-41cf-ac77-33a3489a69ff</pre></div></td></tr><tr><td>Name</td><td>Battery 9V</td></tr><tr><td>Sku</td><td><details class=\"dni-treeview\"><summary><span class=\"dni-code-hint\"><code>StockKeepingUnit { Value = BT9V }</code></span></summary><div><table><thead><tr></tr></thead><tbody><tr><td>Value</td><td>BT9V</td></tr></tbody></table></div></details></td></tr></tbody></table></div></details></td></tr><tr><td>10</td><td><details class=\"dni-treeview\"><summary><span class=\"dni-code-hint\"><code>Part { Id = f01fac8e-f77c-4278-a428-1320c1a42184, Name = Battery clipper Type A, Sku = StockKeepingUnit { Value = BTCLA } }</code></span></summary><div><table><thead><tr></tr></thead><tbody><tr><td>Id</td><td><div class=\"dni-plaintext\"><pre>f01fac8e-f77c-4278-a428-1320c1a42184</pre></div></td></tr><tr><td>Name</td><td>Battery clipper Type A</td></tr><tr><td>Sku</td><td><details class=\"dni-treeview\"><summary><span class=\"dni-code-hint\"><code>StockKeepingUnit { Value = BTCLA }</code></span></summary><div><table><thead><tr></tr></thead><tbody><tr><td>Value</td><td>BTCLA</td></tr></tbody></table></div></details></td></tr></tbody></table></div></details></td></tr></tbody></table><style>\r\n",
       ".dni-code-hint {\r\n",
       "    font-style: italic;\r\n",
       "    overflow: hidden;\r\n",
       "    white-space: nowrap;\r\n",
       "}\r\n",
       ".dni-treeview {\r\n",
       "    white-space: nowrap;\r\n",
       "}\r\n",
       ".dni-treeview td {\r\n",
       "    vertical-align: top;\r\n",
       "    text-align: start;\r\n",
       "}\r\n",
       "details.dni-treeview {\r\n",
       "    padding-left: 1em;\r\n",
       "}\r\n",
       "table td {\r\n",
       "    text-align: start;\r\n",
       "}\r\n",
       "table tr { \r\n",
       "    vertical-align: top; \r\n",
       "    margin: 0em 0px;\r\n",
       "}\r\n",
       "table tr td pre \r\n",
       "{ \r\n",
       "    vertical-align: top !important; \r\n",
       "    margin: 0em 0px !important;\r\n",
       "} \r\n",
       "table th {\r\n",
       "    text-align: start;\r\n",
       "}\r\n",
       "</style>"
      ]
     },
     "metadata": {},
     "output_type": "display_data"
    }
   ],
   "source": [
    "partsRepository.GetAll()"
   ]
  },
  {
   "cell_type": "code",
   "execution_count": 10,
   "metadata": {
    "dotnet_interactive": {
     "language": "csharp"
    },
    "polyglot_notebook": {
     "kernelName": "csharp"
    }
   },
   "outputs": [
    {
     "data": {
      "text/html": [
       "<table><thead><tr><th><i>index</i></th><th>value</th></tr></thead><tbody><tr><td>0</td><td><details class=\"dni-treeview\"><summary><span class=\"dni-code-hint\"><code>Part { Id = 3e165b96-079d-4a96-b077-e672b595d285, Name = Transistor BC547, Sku = StockKeepingUnit { Value = ELTRBC547 } }</code></span></summary><div><table><thead><tr></tr></thead><tbody><tr><td>Id</td><td><div class=\"dni-plaintext\"><pre>3e165b96-079d-4a96-b077-e672b595d285</pre></div></td></tr><tr><td>Name</td><td>Transistor BC547</td></tr><tr><td>Sku</td><td><details class=\"dni-treeview\"><summary><span class=\"dni-code-hint\"><code>StockKeepingUnit { Value = ELTRBC547 }</code></span></summary><div><table><thead><tr></tr></thead><tbody><tr><td>Value</td><td>ELTRBC547</td></tr></tbody></table></div></details></td></tr></tbody></table></div></details></td></tr></tbody></table><style>\r\n",
       ".dni-code-hint {\r\n",
       "    font-style: italic;\r\n",
       "    overflow: hidden;\r\n",
       "    white-space: nowrap;\r\n",
       "}\r\n",
       ".dni-treeview {\r\n",
       "    white-space: nowrap;\r\n",
       "}\r\n",
       ".dni-treeview td {\r\n",
       "    vertical-align: top;\r\n",
       "    text-align: start;\r\n",
       "}\r\n",
       "details.dni-treeview {\r\n",
       "    padding-left: 1em;\r\n",
       "}\r\n",
       "table td {\r\n",
       "    text-align: start;\r\n",
       "}\r\n",
       "table tr { \r\n",
       "    vertical-align: top; \r\n",
       "    margin: 0em 0px;\r\n",
       "}\r\n",
       "table tr td pre \r\n",
       "{ \r\n",
       "    vertical-align: top !important; \r\n",
       "    margin: 0em 0px !important;\r\n",
       "} \r\n",
       "table th {\r\n",
       "    text-align: start;\r\n",
       "}\r\n",
       "</style>"
      ]
     },
     "metadata": {},
     "output_type": "display_data"
    }
   ],
   "source": [
    "partsRepository.TryFind(partsRepository.GetAll().First().Id)"
   ]
  },
  {
   "cell_type": "code",
   "execution_count": 11,
   "metadata": {
    "dotnet_interactive": {
     "language": "csharp"
    },
    "polyglot_notebook": {
     "kernelName": "csharp"
    }
   },
   "outputs": [
    {
     "data": {
      "text/html": [
       "<i>(empty)</i><style>\r\n",
       ".dni-code-hint {\r\n",
       "    font-style: italic;\r\n",
       "    overflow: hidden;\r\n",
       "    white-space: nowrap;\r\n",
       "}\r\n",
       ".dni-treeview {\r\n",
       "    white-space: nowrap;\r\n",
       "}\r\n",
       ".dni-treeview td {\r\n",
       "    vertical-align: top;\r\n",
       "    text-align: start;\r\n",
       "}\r\n",
       "details.dni-treeview {\r\n",
       "    padding-left: 1em;\r\n",
       "}\r\n",
       "table td {\r\n",
       "    text-align: start;\r\n",
       "}\r\n",
       "table tr { \r\n",
       "    vertical-align: top; \r\n",
       "    margin: 0em 0px;\r\n",
       "}\r\n",
       "table tr td pre \r\n",
       "{ \r\n",
       "    vertical-align: top !important; \r\n",
       "    margin: 0em 0px !important;\r\n",
       "} \r\n",
       "table th {\r\n",
       "    text-align: start;\r\n",
       "}\r\n",
       "</style>"
      ]
     },
     "metadata": {},
     "output_type": "display_data"
    }
   ],
   "source": [
    "partsRepository.TryFind(new Guid(\"b3441757-1a73-4271-9d91-5c0bd48cf537\"))"
   ]
  },
  {
   "cell_type": "markdown",
   "metadata": {},
   "source": [
    "# Option"
   ]
  },
  {
   "cell_type": "code",
   "execution_count": 12,
   "metadata": {
    "dotnet_interactive": {
     "language": "csharp"
    },
    "polyglot_notebook": {
     "kernelName": "csharp"
    }
   },
   "outputs": [],
   "source": [
    "using Models.Types.Common;\n",
    "using Models.Types.Components;"
   ]
  },
  {
   "cell_type": "code",
   "execution_count": 13,
   "metadata": {
    "dotnet_interactive": {
     "language": "csharp"
    },
    "polyglot_notebook": {
     "kernelName": "csharp"
    }
   },
   "outputs": [
    {
     "data": {
      "text/html": [
       "<details open=\"open\" class=\"dni-treeview\"><summary><span class=\"dni-code-hint\"><code>Part { Id = 0d8e6a3e-9495-4510-a753-a37e514ee9cc, Name = Transistor BC547, Sku = StockKeepingUnit { Value = ELTRBC547 } }</code></span></summary><div><table><thead><tr></tr></thead><tbody><tr><td>Id</td><td><div class=\"dni-plaintext\"><pre>0d8e6a3e-9495-4510-a753-a37e514ee9cc</pre></div></td></tr><tr><td>Name</td><td>Transistor BC547</td></tr><tr><td>Sku</td><td><details class=\"dni-treeview\"><summary><span class=\"dni-code-hint\"><code>StockKeepingUnit { Value = ELTRBC547 }</code></span></summary><div><table><thead><tr></tr></thead><tbody><tr><td>Value</td><td>ELTRBC547</td></tr></tbody></table></div></details></td></tr></tbody></table></div></details><style>\r\n",
       ".dni-code-hint {\r\n",
       "    font-style: italic;\r\n",
       "    overflow: hidden;\r\n",
       "    white-space: nowrap;\r\n",
       "}\r\n",
       ".dni-treeview {\r\n",
       "    white-space: nowrap;\r\n",
       "}\r\n",
       ".dni-treeview td {\r\n",
       "    vertical-align: top;\r\n",
       "    text-align: start;\r\n",
       "}\r\n",
       "details.dni-treeview {\r\n",
       "    padding-left: 1em;\r\n",
       "}\r\n",
       "table td {\r\n",
       "    text-align: start;\r\n",
       "}\r\n",
       "table tr { \r\n",
       "    vertical-align: top; \r\n",
       "    margin: 0em 0px;\r\n",
       "}\r\n",
       "table tr td pre \r\n",
       "{ \r\n",
       "    vertical-align: top !important; \r\n",
       "    margin: 0em 0px !important;\r\n",
       "} \r\n",
       "table th {\r\n",
       "    text-align: start;\r\n",
       "}\r\n",
       "</style>"
      ]
     },
     "metadata": {},
     "output_type": "display_data"
    }
   ],
   "source": [
    "Part bc547 = new(Guid.NewGuid(), \"Transistor BC547\", new StockKeepingUnit(\"ELTRBC547\"));\n",
    "display(bc547);"
   ]
  },
  {
   "cell_type": "code",
   "execution_count": 16,
   "metadata": {
    "dotnet_interactive": {
     "language": "csharp"
    },
    "polyglot_notebook": {
     "kernelName": "csharp"
    }
   },
   "outputs": [],
   "source": [
    "void Report(params object[] items)\n",
    "{\n",
    "    foreach (object item in items) System.Console.WriteLine(item);\n",
    "    System.Console.WriteLine(new string('-', 80));\n",
    "}"
   ]
  },
  {
   "cell_type": "code",
   "execution_count": 17,
   "metadata": {
    "dotnet_interactive": {
     "language": "csharp"
    },
    "polyglot_notebook": {
     "kernelName": "csharp"
    }
   },
   "outputs": [],
   "source": [
    "Option<Part> a = new Some<Part>(bc547);\n",
    "Option<Part> b = new None<Part>();"
   ]
  },
  {
   "cell_type": "code",
   "execution_count": 18,
   "metadata": {
    "dotnet_interactive": {
     "language": "csharp"
    },
    "polyglot_notebook": {
     "kernelName": "csharp"
    }
   },
   "outputs": [
    {
     "name": "stdout",
     "output_type": "stream",
     "text": [
      "Some Part { Id = 0d8e6a3e-9495-4510-a753-a37e514ee9cc, Name = Transistor BC547, Sku = StockKeepingUnit { Value = ELTRBC547 } }\n",
      "None\n",
      "--------------------------------------------------------------------------------\n"
     ]
    }
   ],
   "source": [
    "Report(a, b);"
   ]
  },
  {
   "cell_type": "code",
   "execution_count": null,
   "metadata": {
    "dotnet_interactive": {
     "language": "csharp"
    },
    "polyglot_notebook": {
     "kernelName": "csharp"
    }
   },
   "outputs": [],
   "source": []
  }
 ],
 "metadata": {
  "kernelspec": {
   "display_name": ".NET (C#)",
   "language": "C#",
   "name": ".net-csharp"
  },
  "language_info": {
   "name": "polyglot-notebook"
  },
  "polyglot_notebook": {
   "kernelInfo": {
    "defaultKernelName": "csharp",
    "items": [
     {
      "aliases": [],
      "languageName": "csharp",
      "name": "csharp"
     }
    ]
   }
  }
 },
 "nbformat": 4,
 "nbformat_minor": 2
}
