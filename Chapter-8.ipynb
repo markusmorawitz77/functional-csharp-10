{
 "cells": [
  {
   "cell_type": "code",
   "execution_count": 1,
   "metadata": {
    "dotnet_interactive": {
     "language": "csharp"
    },
    "polyglot_notebook": {
     "kernelName": "csharp"
    }
   },
   "outputs": [],
   "source": [
    "#r \"./Models/bin/Debug/net7.0/Models.dll\"\n",
    "#r \"./TestPersistence/bin/Debug/net7.0/TestPersistence.dll\""
   ]
  },
  {
   "cell_type": "code",
   "execution_count": 2,
   "metadata": {
    "dotnet_interactive": {
     "language": "csharp"
    },
    "polyglot_notebook": {
     "kernelName": "csharp"
    }
   },
   "outputs": [],
   "source": [
    "using TestPersistence;\n",
    "PartsReadRepository partsRepository = new();"
   ]
  },
  {
   "cell_type": "code",
   "execution_count": 3,
   "metadata": {
    "dotnet_interactive": {
     "language": "csharp"
    },
    "polyglot_notebook": {
     "kernelName": "csharp"
    }
   },
   "outputs": [
    {
     "data": {
      "text/html": [
       "<table><thead><tr><th><i>index</i></th><th>value</th></tr></thead><tbody><tr><td>0</td><td><details class=\"dni-treeview\"><summary><span class=\"dni-code-hint\"><code>Part { Id = 227d8b39-67cd-4058-bff3-4104699c85cf, Name = Transistor BC547, Sku = StockKeepingUnit { Value = ELTRBC547 } }</code></span></summary><div><table><thead><tr></tr></thead><tbody><tr><td>Id</td><td><div class=\"dni-plaintext\"><pre>227d8b39-67cd-4058-bff3-4104699c85cf</pre></div></td></tr><tr><td>Name</td><td>Transistor BC547</td></tr><tr><td>Sku</td><td><details class=\"dni-treeview\"><summary><span class=\"dni-code-hint\"><code>StockKeepingUnit { Value = ELTRBC547 }</code></span></summary><div><table><thead><tr></tr></thead><tbody><tr><td>Value</td><td>ELTRBC547</td></tr></tbody></table></div></details></td></tr></tbody></table></div></details></td></tr><tr><td>1</td><td><details class=\"dni-treeview\"><summary><span class=\"dni-code-hint\"><code>Part { Id = a290524b-869d-421e-be15-3c16056f4d33, Name = Resistor 1K, Sku = StockKeepingUnit { Value = ELRS1K } }</code></span></summary><div><table><thead><tr></tr></thead><tbody><tr><td>Id</td><td><div class=\"dni-plaintext\"><pre>a290524b-869d-421e-be15-3c16056f4d33</pre></div></td></tr><tr><td>Name</td><td>Resistor 1K</td></tr><tr><td>Sku</td><td><details class=\"dni-treeview\"><summary><span class=\"dni-code-hint\"><code>StockKeepingUnit { Value = ELRS1K }</code></span></summary><div><table><thead><tr></tr></thead><tbody><tr><td>Value</td><td>ELRS1K</td></tr></tbody></table></div></details></td></tr></tbody></table></div></details></td></tr><tr><td>2</td><td><details class=\"dni-treeview\"><summary><span class=\"dni-code-hint\"><code>Part { Id = 08d4d66a-91ee-435e-9ddf-9dd58b159df6, Name = Resistor 100K, Sku = StockKeepingUnit { Value = ELRS100K } }</code></span></summary><div><table><thead><tr></tr></thead><tbody><tr><td>Id</td><td><div class=\"dni-plaintext\"><pre>08d4d66a-91ee-435e-9ddf-9dd58b159df6</pre></div></td></tr><tr><td>Name</td><td>Resistor 100K</td></tr><tr><td>Sku</td><td><details class=\"dni-treeview\"><summary><span class=\"dni-code-hint\"><code>StockKeepingUnit { Value = ELRS100K }</code></span></summary><div><table><thead><tr></tr></thead><tbody><tr><td>Value</td><td>ELRS100K</td></tr></tbody></table></div></details></td></tr></tbody></table></div></details></td></tr><tr><td>3</td><td><details class=\"dni-treeview\"><summary><span class=\"dni-code-hint\"><code>Part { Id = 5d69fd50-463f-4f61-bbdb-45a3f8d65f38, Name = Resistor 33K, Sku = StockKeepingUnit { Value = ELRS33K } }</code></span></summary><div><table><thead><tr></tr></thead><tbody><tr><td>Id</td><td><div class=\"dni-plaintext\"><pre>5d69fd50-463f-4f61-bbdb-45a3f8d65f38</pre></div></td></tr><tr><td>Name</td><td>Resistor 33K</td></tr><tr><td>Sku</td><td><details class=\"dni-treeview\"><summary><span class=\"dni-code-hint\"><code>StockKeepingUnit { Value = ELRS33K }</code></span></summary><div><table><thead><tr></tr></thead><tbody><tr><td>Value</td><td>ELRS33K</td></tr></tbody></table></div></details></td></tr></tbody></table></div></details></td></tr><tr><td>4</td><td><details class=\"dni-treeview\"><summary><span class=\"dni-code-hint\"><code>Part { Id = b95335e9-6aaf-485e-9526-cb6fc35cfd2d, Name = LED Red 3V, Sku = StockKeepingUnit { Value = ELLD3VRED } }</code></span></summary><div><table><thead><tr></tr></thead><tbody><tr><td>Id</td><td><div class=\"dni-plaintext\"><pre>b95335e9-6aaf-485e-9526-cb6fc35cfd2d</pre></div></td></tr><tr><td>Name</td><td>LED Red 3V</td></tr><tr><td>Sku</td><td><details class=\"dni-treeview\"><summary><span class=\"dni-code-hint\"><code>StockKeepingUnit { Value = ELLD3VRED }</code></span></summary><div><table><thead><tr></tr></thead><tbody><tr><td>Value</td><td>ELLD3VRED</td></tr></tbody></table></div></details></td></tr></tbody></table></div></details></td></tr><tr><td>5</td><td><details class=\"dni-treeview\"><summary><span class=\"dni-code-hint\"><code>Part { Id = fe279838-d175-46a9-b94a-7fd009b90149, Name = LED Yellow 3V, Sku = StockKeepingUnit { Value = ELLD3VYELLOW } }</code></span></summary><div><table><thead><tr></tr></thead><tbody><tr><td>Id</td><td><div class=\"dni-plaintext\"><pre>fe279838-d175-46a9-b94a-7fd009b90149</pre></div></td></tr><tr><td>Name</td><td>LED Yellow 3V</td></tr><tr><td>Sku</td><td><details class=\"dni-treeview\"><summary><span class=\"dni-code-hint\"><code>StockKeepingUnit { Value = ELLD3VYELLOW }</code></span></summary><div><table><thead><tr></tr></thead><tbody><tr><td>Value</td><td>ELLD3VYELLOW</td></tr></tbody></table></div></details></td></tr></tbody></table></div></details></td></tr><tr><td>6</td><td><details class=\"dni-treeview\"><summary><span class=\"dni-code-hint\"><code>Part { Id = 2cb1439d-8db7-4d4c-bc94-cc67e5917797, Name = LED Green 3V, Sku = StockKeepingUnit { Value = ELLD3VGREEN } }</code></span></summary><div><table><thead><tr></tr></thead><tbody><tr><td>Id</td><td><div class=\"dni-plaintext\"><pre>2cb1439d-8db7-4d4c-bc94-cc67e5917797</pre></div></td></tr><tr><td>Name</td><td>LED Green 3V</td></tr><tr><td>Sku</td><td><details class=\"dni-treeview\"><summary><span class=\"dni-code-hint\"><code>StockKeepingUnit { Value = ELLD3VGREEN }</code></span></summary><div><table><thead><tr></tr></thead><tbody><tr><td>Value</td><td>ELLD3VGREEN</td></tr></tbody></table></div></details></td></tr></tbody></table></div></details></td></tr><tr><td>7</td><td><details class=\"dni-treeview\"><summary><span class=\"dni-code-hint\"><code>Part { Id = 1c2f38f7-2c5a-423e-bcbc-8ee78a0184ca, Name = Capacitor 470uF 25V, Sku = StockKeepingUnit { Value = ELCP470UF25V } }</code></span></summary><div><table><thead><tr></tr></thead><tbody><tr><td>Id</td><td><div class=\"dni-plaintext\"><pre>1c2f38f7-2c5a-423e-bcbc-8ee78a0184ca</pre></div></td></tr><tr><td>Name</td><td>Capacitor 470uF 25V</td></tr><tr><td>Sku</td><td><details class=\"dni-treeview\"><summary><span class=\"dni-code-hint\"><code>StockKeepingUnit { Value = ELCP470UF25V }</code></span></summary><div><table><thead><tr></tr></thead><tbody><tr><td>Value</td><td>ELCP470UF25V</td></tr></tbody></table></div></details></td></tr></tbody></table></div></details></td></tr><tr><td>8</td><td><details class=\"dni-treeview\"><summary><span class=\"dni-code-hint\"><code>Part { Id = e4a27f2f-6c12-473f-8af2-fd65bcc0ef53, Name = Capacitor 100uF 25V, Sku = StockKeepingUnit { Value = ELCP100UF25V } }</code></span></summary><div><table><thead><tr></tr></thead><tbody><tr><td>Id</td><td><div class=\"dni-plaintext\"><pre>e4a27f2f-6c12-473f-8af2-fd65bcc0ef53</pre></div></td></tr><tr><td>Name</td><td>Capacitor 100uF 25V</td></tr><tr><td>Sku</td><td><details class=\"dni-treeview\"><summary><span class=\"dni-code-hint\"><code>StockKeepingUnit { Value = ELCP100UF25V }</code></span></summary><div><table><thead><tr></tr></thead><tbody><tr><td>Value</td><td>ELCP100UF25V</td></tr></tbody></table></div></details></td></tr></tbody></table></div></details></td></tr><tr><td>9</td><td><details class=\"dni-treeview\"><summary><span class=\"dni-code-hint\"><code>Part { Id = 23a3f51f-f311-4d24-a080-cb03062ddf58, Name = Battery 9V, Sku = StockKeepingUnit { Value = BT9V } }</code></span></summary><div><table><thead><tr></tr></thead><tbody><tr><td>Id</td><td><div class=\"dni-plaintext\"><pre>23a3f51f-f311-4d24-a080-cb03062ddf58</pre></div></td></tr><tr><td>Name</td><td>Battery 9V</td></tr><tr><td>Sku</td><td><details class=\"dni-treeview\"><summary><span class=\"dni-code-hint\"><code>StockKeepingUnit { Value = BT9V }</code></span></summary><div><table><thead><tr></tr></thead><tbody><tr><td>Value</td><td>BT9V</td></tr></tbody></table></div></details></td></tr></tbody></table></div></details></td></tr><tr><td>10</td><td><details class=\"dni-treeview\"><summary><span class=\"dni-code-hint\"><code>Part { Id = 696dac83-96bf-4565-9b97-5e9f4bc55e88, Name = Battery clipper Type A, Sku = StockKeepingUnit { Value = BTCLA } }</code></span></summary><div><table><thead><tr></tr></thead><tbody><tr><td>Id</td><td><div class=\"dni-plaintext\"><pre>696dac83-96bf-4565-9b97-5e9f4bc55e88</pre></div></td></tr><tr><td>Name</td><td>Battery clipper Type A</td></tr><tr><td>Sku</td><td><details class=\"dni-treeview\"><summary><span class=\"dni-code-hint\"><code>StockKeepingUnit { Value = BTCLA }</code></span></summary><div><table><thead><tr></tr></thead><tbody><tr><td>Value</td><td>BTCLA</td></tr></tbody></table></div></details></td></tr></tbody></table></div></details></td></tr></tbody></table><style>\r\n",
       ".dni-code-hint {\r\n",
       "    font-style: italic;\r\n",
       "    overflow: hidden;\r\n",
       "    white-space: nowrap;\r\n",
       "}\r\n",
       ".dni-treeview {\r\n",
       "    white-space: nowrap;\r\n",
       "}\r\n",
       ".dni-treeview td {\r\n",
       "    vertical-align: top;\r\n",
       "    text-align: start;\r\n",
       "}\r\n",
       "details.dni-treeview {\r\n",
       "    padding-left: 1em;\r\n",
       "}\r\n",
       "table td {\r\n",
       "    text-align: start;\r\n",
       "}\r\n",
       "table tr { \r\n",
       "    vertical-align: top; \r\n",
       "    margin: 0em 0px;\r\n",
       "}\r\n",
       "table tr td pre \r\n",
       "{ \r\n",
       "    vertical-align: top !important; \r\n",
       "    margin: 0em 0px !important;\r\n",
       "} \r\n",
       "table th {\r\n",
       "    text-align: start;\r\n",
       "}\r\n",
       "</style>"
      ]
     },
     "metadata": {},
     "output_type": "display_data"
    }
   ],
   "source": [
    "partsRepository.GetAll()"
   ]
  },
  {
   "cell_type": "code",
   "execution_count": 4,
   "metadata": {
    "dotnet_interactive": {
     "language": "csharp"
    },
    "polyglot_notebook": {
     "kernelName": "csharp"
    }
   },
   "outputs": [
    {
     "data": {
      "text/html": [
       "<table><thead><tr><th><i>index</i></th><th>value</th></tr></thead><tbody><tr><td>0</td><td><details class=\"dni-treeview\"><summary><span class=\"dni-code-hint\"><code>Part { Id = 227d8b39-67cd-4058-bff3-4104699c85cf, Name = Transistor BC547, Sku = StockKeepingUnit { Value = ELTRBC547 } }</code></span></summary><div><table><thead><tr></tr></thead><tbody><tr><td>Id</td><td><div class=\"dni-plaintext\"><pre>227d8b39-67cd-4058-bff3-4104699c85cf</pre></div></td></tr><tr><td>Name</td><td>Transistor BC547</td></tr><tr><td>Sku</td><td><details class=\"dni-treeview\"><summary><span class=\"dni-code-hint\"><code>StockKeepingUnit { Value = ELTRBC547 }</code></span></summary><div><table><thead><tr></tr></thead><tbody><tr><td>Value</td><td>ELTRBC547</td></tr></tbody></table></div></details></td></tr></tbody></table></div></details></td></tr></tbody></table><style>\r\n",
       ".dni-code-hint {\r\n",
       "    font-style: italic;\r\n",
       "    overflow: hidden;\r\n",
       "    white-space: nowrap;\r\n",
       "}\r\n",
       ".dni-treeview {\r\n",
       "    white-space: nowrap;\r\n",
       "}\r\n",
       ".dni-treeview td {\r\n",
       "    vertical-align: top;\r\n",
       "    text-align: start;\r\n",
       "}\r\n",
       "details.dni-treeview {\r\n",
       "    padding-left: 1em;\r\n",
       "}\r\n",
       "table td {\r\n",
       "    text-align: start;\r\n",
       "}\r\n",
       "table tr { \r\n",
       "    vertical-align: top; \r\n",
       "    margin: 0em 0px;\r\n",
       "}\r\n",
       "table tr td pre \r\n",
       "{ \r\n",
       "    vertical-align: top !important; \r\n",
       "    margin: 0em 0px !important;\r\n",
       "} \r\n",
       "table th {\r\n",
       "    text-align: start;\r\n",
       "}\r\n",
       "</style>"
      ]
     },
     "metadata": {},
     "output_type": "display_data"
    }
   ],
   "source": [
    "partsRepository.TryFind(partsRepository.GetAll().First().Id)"
   ]
  },
  {
   "cell_type": "code",
   "execution_count": 5,
   "metadata": {
    "dotnet_interactive": {
     "language": "csharp"
    },
    "polyglot_notebook": {
     "kernelName": "csharp"
    }
   },
   "outputs": [
    {
     "data": {
      "text/html": [
       "<i>(empty)</i><style>\r\n",
       ".dni-code-hint {\r\n",
       "    font-style: italic;\r\n",
       "    overflow: hidden;\r\n",
       "    white-space: nowrap;\r\n",
       "}\r\n",
       ".dni-treeview {\r\n",
       "    white-space: nowrap;\r\n",
       "}\r\n",
       ".dni-treeview td {\r\n",
       "    vertical-align: top;\r\n",
       "    text-align: start;\r\n",
       "}\r\n",
       "details.dni-treeview {\r\n",
       "    padding-left: 1em;\r\n",
       "}\r\n",
       "table td {\r\n",
       "    text-align: start;\r\n",
       "}\r\n",
       "table tr { \r\n",
       "    vertical-align: top; \r\n",
       "    margin: 0em 0px;\r\n",
       "}\r\n",
       "table tr td pre \r\n",
       "{ \r\n",
       "    vertical-align: top !important; \r\n",
       "    margin: 0em 0px !important;\r\n",
       "} \r\n",
       "table th {\r\n",
       "    text-align: start;\r\n",
       "}\r\n",
       "</style>"
      ]
     },
     "metadata": {},
     "output_type": "display_data"
    }
   ],
   "source": [
    "partsRepository.TryFind(new Guid(\"b3441757-1a73-4271-9d91-5c0bd48cf537\"))"
   ]
  },
  {
   "cell_type": "markdown",
   "metadata": {},
   "source": [
    "# Option"
   ]
  },
  {
   "cell_type": "code",
   "execution_count": 6,
   "metadata": {
    "dotnet_interactive": {
     "language": "csharp"
    },
    "polyglot_notebook": {
     "kernelName": "csharp"
    }
   },
   "outputs": [],
   "source": [
    "using Models.Types.Common;\n",
    "using Models.Types.Components;"
   ]
  },
  {
   "cell_type": "code",
   "execution_count": 7,
   "metadata": {
    "dotnet_interactive": {
     "language": "csharp"
    },
    "polyglot_notebook": {
     "kernelName": "csharp"
    }
   },
   "outputs": [
    {
     "data": {
      "text/html": [
       "<details open=\"open\" class=\"dni-treeview\"><summary><span class=\"dni-code-hint\"><code>Part { Id = 058103fa-c224-44d2-851f-5eb6f391bedc, Name = Transistor BC547, Sku = StockKeepingUnit { Value = ELTRBC547 } }</code></span></summary><div><table><thead><tr></tr></thead><tbody><tr><td>Id</td><td><div class=\"dni-plaintext\"><pre>058103fa-c224-44d2-851f-5eb6f391bedc</pre></div></td></tr><tr><td>Name</td><td>Transistor BC547</td></tr><tr><td>Sku</td><td><details class=\"dni-treeview\"><summary><span class=\"dni-code-hint\"><code>StockKeepingUnit { Value = ELTRBC547 }</code></span></summary><div><table><thead><tr></tr></thead><tbody><tr><td>Value</td><td>ELTRBC547</td></tr></tbody></table></div></details></td></tr></tbody></table></div></details><style>\r\n",
       ".dni-code-hint {\r\n",
       "    font-style: italic;\r\n",
       "    overflow: hidden;\r\n",
       "    white-space: nowrap;\r\n",
       "}\r\n",
       ".dni-treeview {\r\n",
       "    white-space: nowrap;\r\n",
       "}\r\n",
       ".dni-treeview td {\r\n",
       "    vertical-align: top;\r\n",
       "    text-align: start;\r\n",
       "}\r\n",
       "details.dni-treeview {\r\n",
       "    padding-left: 1em;\r\n",
       "}\r\n",
       "table td {\r\n",
       "    text-align: start;\r\n",
       "}\r\n",
       "table tr { \r\n",
       "    vertical-align: top; \r\n",
       "    margin: 0em 0px;\r\n",
       "}\r\n",
       "table tr td pre \r\n",
       "{ \r\n",
       "    vertical-align: top !important; \r\n",
       "    margin: 0em 0px !important;\r\n",
       "} \r\n",
       "table th {\r\n",
       "    text-align: start;\r\n",
       "}\r\n",
       "</style>"
      ]
     },
     "metadata": {},
     "output_type": "display_data"
    }
   ],
   "source": [
    "Part bc547 = new(Guid.NewGuid(), \"Transistor BC547\", new StockKeepingUnit(\"ELTRBC547\"));\n",
    "display(bc547);"
   ]
  },
  {
   "cell_type": "code",
   "execution_count": 8,
   "metadata": {
    "dotnet_interactive": {
     "language": "csharp"
    },
    "polyglot_notebook": {
     "kernelName": "csharp"
    }
   },
   "outputs": [],
   "source": [
    "void Report(params object[] items)\n",
    "{\n",
    "    foreach (object item in items) System.Console.WriteLine(item);\n",
    "    System.Console.WriteLine(new string('-', 80));\n",
    "}"
   ]
  },
  {
   "cell_type": "code",
   "execution_count": 9,
   "metadata": {
    "dotnet_interactive": {
     "language": "csharp"
    },
    "polyglot_notebook": {
     "kernelName": "csharp"
    }
   },
   "outputs": [],
   "source": [
    "Option<Part> a = new Some<Part>(bc547);\n",
    "Option<Part> b = new None<Part>();"
   ]
  },
  {
   "cell_type": "code",
   "execution_count": 10,
   "metadata": {
    "dotnet_interactive": {
     "language": "csharp"
    },
    "polyglot_notebook": {
     "kernelName": "csharp"
    }
   },
   "outputs": [
    {
     "name": "stdout",
     "output_type": "stream",
     "text": [
      "Some Part { Id = 058103fa-c224-44d2-851f-5eb6f391bedc, Name = Transistor BC547, Sku = StockKeepingUnit { Value = ELTRBC547 } }\n",
      "None\n",
      "--------------------------------------------------------------------------------\n"
     ]
    }
   ],
   "source": [
    "Report(a, b);"
   ]
  },
  {
   "cell_type": "code",
   "execution_count": 11,
   "metadata": {
    "dotnet_interactive": {
     "language": "csharp"
    },
    "polyglot_notebook": {
     "kernelName": "csharp"
    }
   },
   "outputs": [
    {
     "name": "stdout",
     "output_type": "stream",
     "text": [
      "Some Part { Id = 058103fa-c224-44d2-851f-5eb6f391bedc, Name = BC547, Sku = StockKeepingUnit { Value = ELTRBC547 } }\n",
      "None\n",
      "--------------------------------------------------------------------------------\n"
     ]
    }
   ],
   "source": [
    "Report(\n",
    "    a.Map(part => part with { Name = \"BC547\" }),\n",
    "    b.Map(part => part with { Name = \"BC547\" })\n",
    ");"
   ]
  },
  {
   "cell_type": "code",
   "execution_count": 15,
   "metadata": {
    "dotnet_interactive": {
     "language": "csharp"
    },
    "polyglot_notebook": {
     "kernelName": "csharp"
    }
   },
   "outputs": [
    {
     "data": {
      "text/html": [
       "<details open=\"open\" class=\"dni-treeview\"><summary><span class=\"dni-code-hint\"><code>None</code></span></summary><div><table><thead><tr></tr></thead><tbody></tbody></table></div></details><style>\r\n",
       ".dni-code-hint {\r\n",
       "    font-style: italic;\r\n",
       "    overflow: hidden;\r\n",
       "    white-space: nowrap;\r\n",
       "}\r\n",
       ".dni-treeview {\r\n",
       "    white-space: nowrap;\r\n",
       "}\r\n",
       ".dni-treeview td {\r\n",
       "    vertical-align: top;\r\n",
       "    text-align: start;\r\n",
       "}\r\n",
       "details.dni-treeview {\r\n",
       "    padding-left: 1em;\r\n",
       "}\r\n",
       "table td {\r\n",
       "    text-align: start;\r\n",
       "}\r\n",
       "table tr { \r\n",
       "    vertical-align: top; \r\n",
       "    margin: 0em 0px;\r\n",
       "}\r\n",
       "table tr td pre \r\n",
       "{ \r\n",
       "    vertical-align: top !important; \r\n",
       "    margin: 0em 0px !important;\r\n",
       "} \r\n",
       "table th {\r\n",
       "    text-align: start;\r\n",
       "}\r\n",
       "</style>"
      ]
     },
     "metadata": {},
     "output_type": "display_data"
    }
   ],
   "source": [
    "var a = None.Of<int>();\n",
    "a"
   ]
  },
  {
   "cell_type": "code",
   "execution_count": 17,
   "metadata": {
    "dotnet_interactive": {
     "language": "csharp"
    },
    "polyglot_notebook": {
     "kernelName": "csharp"
    }
   },
   "outputs": [
    {
     "data": {
      "text/html": [
       "<details open=\"open\" class=\"dni-treeview\"><summary><span class=\"dni-code-hint\"><code>Some 1</code></span></summary><div><table><thead><tr></tr></thead><tbody><tr><td>Content</td><td><div class=\"dni-plaintext\"><pre>1</pre></div></td></tr></tbody></table></div></details><style>\r\n",
       ".dni-code-hint {\r\n",
       "    font-style: italic;\r\n",
       "    overflow: hidden;\r\n",
       "    white-space: nowrap;\r\n",
       "}\r\n",
       ".dni-treeview {\r\n",
       "    white-space: nowrap;\r\n",
       "}\r\n",
       ".dni-treeview td {\r\n",
       "    vertical-align: top;\r\n",
       "    text-align: start;\r\n",
       "}\r\n",
       "details.dni-treeview {\r\n",
       "    padding-left: 1em;\r\n",
       "}\r\n",
       "table td {\r\n",
       "    text-align: start;\r\n",
       "}\r\n",
       "table tr { \r\n",
       "    vertical-align: top; \r\n",
       "    margin: 0em 0px;\r\n",
       "}\r\n",
       "table tr td pre \r\n",
       "{ \r\n",
       "    vertical-align: top !important; \r\n",
       "    margin: 0em 0px !important;\r\n",
       "} \r\n",
       "table th {\r\n",
       "    text-align: start;\r\n",
       "}\r\n",
       "</style>"
      ]
     },
     "metadata": {},
     "output_type": "display_data"
    }
   ],
   "source": [
    "int b = 1;\n",
    "b.Optional()"
   ]
  },
  {
   "cell_type": "code",
   "execution_count": 18,
   "metadata": {
    "dotnet_interactive": {
     "language": "csharp"
    },
    "polyglot_notebook": {
     "kernelName": "csharp"
    }
   },
   "outputs": [
    {
     "data": {
      "text/html": [
       "<details open=\"open\" class=\"dni-treeview\"><summary><span class=\"dni-code-hint\"><code>Some 1</code></span></summary><div><table><thead><tr></tr></thead><tbody><tr><td>Content</td><td><div class=\"dni-plaintext\"><pre>1</pre></div></td></tr></tbody></table></div></details><style>\r\n",
       ".dni-code-hint {\r\n",
       "    font-style: italic;\r\n",
       "    overflow: hidden;\r\n",
       "    white-space: nowrap;\r\n",
       "}\r\n",
       ".dni-treeview {\r\n",
       "    white-space: nowrap;\r\n",
       "}\r\n",
       ".dni-treeview td {\r\n",
       "    vertical-align: top;\r\n",
       "    text-align: start;\r\n",
       "}\r\n",
       "details.dni-treeview {\r\n",
       "    padding-left: 1em;\r\n",
       "}\r\n",
       "table td {\r\n",
       "    text-align: start;\r\n",
       "}\r\n",
       "table tr { \r\n",
       "    vertical-align: top; \r\n",
       "    margin: 0em 0px;\r\n",
       "}\r\n",
       "table tr td pre \r\n",
       "{ \r\n",
       "    vertical-align: top !important; \r\n",
       "    margin: 0em 0px !important;\r\n",
       "} \r\n",
       "table th {\r\n",
       "    text-align: start;\r\n",
       "}\r\n",
       "</style>"
      ]
     },
     "metadata": {},
     "output_type": "display_data"
    }
   ],
   "source": [
    "1.Optional()"
   ]
  },
  {
   "cell_type": "code",
   "execution_count": null,
   "metadata": {
    "dotnet_interactive": {
     "language": "csharp"
    },
    "polyglot_notebook": {
     "kernelName": "csharp"
    }
   },
   "outputs": [],
   "source": []
  }
 ],
 "metadata": {
  "kernelspec": {
   "display_name": ".NET (C#)",
   "language": "C#",
   "name": ".net-csharp"
  },
  "language_info": {
   "name": "polyglot-notebook"
  },
  "polyglot_notebook": {
   "kernelInfo": {
    "defaultKernelName": "csharp",
    "items": [
     {
      "aliases": [],
      "languageName": "csharp",
      "name": "csharp"
     }
    ]
   }
  }
 },
 "nbformat": 4,
 "nbformat_minor": 2
}
