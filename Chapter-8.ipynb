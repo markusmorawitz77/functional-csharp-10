{
 "cells": [
  {
   "cell_type": "code",
   "execution_count": 6,
   "metadata": {
    "dotnet_interactive": {
     "language": "csharp"
    },
    "polyglot_notebook": {
     "kernelName": "csharp"
    }
   },
   "outputs": [],
   "source": [
    "#r \"./Models/bin/Debug/net7.0/Models.dll\"\n",
    "#r \"./TestPersistence/bin/Debug/net7.0/TestPersistence.dll\""
   ]
  },
  {
   "cell_type": "code",
   "execution_count": 7,
   "metadata": {
    "dotnet_interactive": {
     "language": "csharp"
    },
    "polyglot_notebook": {
     "kernelName": "csharp"
    }
   },
   "outputs": [
    {
     "data": {
      "text/html": [
       "<details open=\"open\" class=\"dni-treeview\"><summary><span class=\"dni-code-hint\"><code>Models.Types.Products.AssemblySpecification</code></span></summary><div><table><thead><tr></tr></thead><tbody><tr><td>Id</td><td><div class=\"dni-plaintext\"><pre>8df9c35b-1f11-48b5-a204-3a76cd2730e9</pre></div></td></tr><tr><td>Name</td><td></td></tr><tr><td>Description</td><td></td></tr><tr><td>Components</td><td><i>(empty)</i></td></tr><tr><td>Consumables</td><td><i>(empty)</i></td></tr></tbody></table></div></details><style>\r\n",
       ".dni-code-hint {\r\n",
       "    font-style: italic;\r\n",
       "    overflow: hidden;\r\n",
       "    white-space: nowrap;\r\n",
       "}\r\n",
       ".dni-treeview {\r\n",
       "    white-space: nowrap;\r\n",
       "}\r\n",
       ".dni-treeview td {\r\n",
       "    vertical-align: top;\r\n",
       "    text-align: start;\r\n",
       "}\r\n",
       "details.dni-treeview {\r\n",
       "    padding-left: 1em;\r\n",
       "}\r\n",
       "table td {\r\n",
       "    text-align: start;\r\n",
       "}\r\n",
       "table tr { \r\n",
       "    vertical-align: top; \r\n",
       "    margin: 0em 0px;\r\n",
       "}\r\n",
       "table tr td pre \r\n",
       "{ \r\n",
       "    vertical-align: top !important; \r\n",
       "    margin: 0em 0px !important;\r\n",
       "} \r\n",
       "table th {\r\n",
       "    text-align: start;\r\n",
       "}\r\n",
       "</style>"
      ]
     },
     "metadata": {},
     "output_type": "display_data"
    }
   ],
   "source": [
    "new Models.Types.Products.AssemblySpecification()"
   ]
  },
  {
   "cell_type": "code",
   "execution_count": 9,
   "metadata": {
    "dotnet_interactive": {
     "language": "csharp"
    },
    "polyglot_notebook": {
     "kernelName": "csharp"
    }
   },
   "outputs": [],
   "source": [
    "using TestPersistence;\n",
    "PartsReadRepository partsRepository = new();"
   ]
  },
  {
   "cell_type": "code",
   "execution_count": 10,
   "metadata": {
    "dotnet_interactive": {
     "language": "csharp"
    },
    "polyglot_notebook": {
     "kernelName": "csharp"
    }
   },
   "outputs": [
    {
     "data": {
      "text/html": [
       "<table><thead><tr><th><i>index</i></th><th>value</th></tr></thead><tbody><tr><td>0</td><td><details class=\"dni-treeview\"><summary><span class=\"dni-code-hint\"><code>Part { Id = b3441757-1a73-4271-9d91-5c0bd48cf527, Name = Transistor BC547, Sku = StockKeepingUnit { Value = ELTRBC547 } }</code></span></summary><div><table><thead><tr></tr></thead><tbody><tr><td>Id</td><td><div class=\"dni-plaintext\"><pre>b3441757-1a73-4271-9d91-5c0bd48cf527</pre></div></td></tr><tr><td>Name</td><td>Transistor BC547</td></tr><tr><td>Sku</td><td><details class=\"dni-treeview\"><summary><span class=\"dni-code-hint\"><code>StockKeepingUnit { Value = ELTRBC547 }</code></span></summary><div><table><thead><tr></tr></thead><tbody><tr><td>Value</td><td>ELTRBC547</td></tr></tbody></table></div></details></td></tr></tbody></table></div></details></td></tr><tr><td>1</td><td><details class=\"dni-treeview\"><summary><span class=\"dni-code-hint\"><code>Part { Id = 2c1ed5aa-049c-488a-bda3-2ba1b70b5661, Name = Resistor 1K, Sku = StockKeepingUnit { Value = ELRS1K } }</code></span></summary><div><table><thead><tr></tr></thead><tbody><tr><td>Id</td><td><div class=\"dni-plaintext\"><pre>2c1ed5aa-049c-488a-bda3-2ba1b70b5661</pre></div></td></tr><tr><td>Name</td><td>Resistor 1K</td></tr><tr><td>Sku</td><td><details class=\"dni-treeview\"><summary><span class=\"dni-code-hint\"><code>StockKeepingUnit { Value = ELRS1K }</code></span></summary><div><table><thead><tr></tr></thead><tbody><tr><td>Value</td><td>ELRS1K</td></tr></tbody></table></div></details></td></tr></tbody></table></div></details></td></tr><tr><td>2</td><td><details class=\"dni-treeview\"><summary><span class=\"dni-code-hint\"><code>Part { Id = 98851b50-6192-4638-b5d7-0aea72e213cb, Name = Resistor 100K, Sku = StockKeepingUnit { Value = ELRS100K } }</code></span></summary><div><table><thead><tr></tr></thead><tbody><tr><td>Id</td><td><div class=\"dni-plaintext\"><pre>98851b50-6192-4638-b5d7-0aea72e213cb</pre></div></td></tr><tr><td>Name</td><td>Resistor 100K</td></tr><tr><td>Sku</td><td><details class=\"dni-treeview\"><summary><span class=\"dni-code-hint\"><code>StockKeepingUnit { Value = ELRS100K }</code></span></summary><div><table><thead><tr></tr></thead><tbody><tr><td>Value</td><td>ELRS100K</td></tr></tbody></table></div></details></td></tr></tbody></table></div></details></td></tr><tr><td>3</td><td><details class=\"dni-treeview\"><summary><span class=\"dni-code-hint\"><code>Part { Id = 71085078-b936-492a-8821-52485c5387d7, Name = Resistor 33K, Sku = StockKeepingUnit { Value = ELRS33K } }</code></span></summary><div><table><thead><tr></tr></thead><tbody><tr><td>Id</td><td><div class=\"dni-plaintext\"><pre>71085078-b936-492a-8821-52485c5387d7</pre></div></td></tr><tr><td>Name</td><td>Resistor 33K</td></tr><tr><td>Sku</td><td><details class=\"dni-treeview\"><summary><span class=\"dni-code-hint\"><code>StockKeepingUnit { Value = ELRS33K }</code></span></summary><div><table><thead><tr></tr></thead><tbody><tr><td>Value</td><td>ELRS33K</td></tr></tbody></table></div></details></td></tr></tbody></table></div></details></td></tr><tr><td>4</td><td><details class=\"dni-treeview\"><summary><span class=\"dni-code-hint\"><code>Part { Id = 7646b13c-c69d-4cd2-be36-f1a584c63a5a, Name = LED Red 3V, Sku = StockKeepingUnit { Value = ELLD3VRED } }</code></span></summary><div><table><thead><tr></tr></thead><tbody><tr><td>Id</td><td><div class=\"dni-plaintext\"><pre>7646b13c-c69d-4cd2-be36-f1a584c63a5a</pre></div></td></tr><tr><td>Name</td><td>LED Red 3V</td></tr><tr><td>Sku</td><td><details class=\"dni-treeview\"><summary><span class=\"dni-code-hint\"><code>StockKeepingUnit { Value = ELLD3VRED }</code></span></summary><div><table><thead><tr></tr></thead><tbody><tr><td>Value</td><td>ELLD3VRED</td></tr></tbody></table></div></details></td></tr></tbody></table></div></details></td></tr><tr><td>5</td><td><details class=\"dni-treeview\"><summary><span class=\"dni-code-hint\"><code>Part { Id = 16e535ea-748b-457c-aefd-380a5e4569af, Name = LED Yellow 3V, Sku = StockKeepingUnit { Value = ELLD3VYELLOW } }</code></span></summary><div><table><thead><tr></tr></thead><tbody><tr><td>Id</td><td><div class=\"dni-plaintext\"><pre>16e535ea-748b-457c-aefd-380a5e4569af</pre></div></td></tr><tr><td>Name</td><td>LED Yellow 3V</td></tr><tr><td>Sku</td><td><details class=\"dni-treeview\"><summary><span class=\"dni-code-hint\"><code>StockKeepingUnit { Value = ELLD3VYELLOW }</code></span></summary><div><table><thead><tr></tr></thead><tbody><tr><td>Value</td><td>ELLD3VYELLOW</td></tr></tbody></table></div></details></td></tr></tbody></table></div></details></td></tr><tr><td>6</td><td><details class=\"dni-treeview\"><summary><span class=\"dni-code-hint\"><code>Part { Id = 7c40a27a-8c93-47c6-95ac-a3d66339bc42, Name = LED Green 3V, Sku = StockKeepingUnit { Value = ELLD3VGREEN } }</code></span></summary><div><table><thead><tr></tr></thead><tbody><tr><td>Id</td><td><div class=\"dni-plaintext\"><pre>7c40a27a-8c93-47c6-95ac-a3d66339bc42</pre></div></td></tr><tr><td>Name</td><td>LED Green 3V</td></tr><tr><td>Sku</td><td><details class=\"dni-treeview\"><summary><span class=\"dni-code-hint\"><code>StockKeepingUnit { Value = ELLD3VGREEN }</code></span></summary><div><table><thead><tr></tr></thead><tbody><tr><td>Value</td><td>ELLD3VGREEN</td></tr></tbody></table></div></details></td></tr></tbody></table></div></details></td></tr><tr><td>7</td><td><details class=\"dni-treeview\"><summary><span class=\"dni-code-hint\"><code>Part { Id = 5b097f21-c159-495a-ae3a-5eff914baf8d, Name = Capacitor 470uF 25V, Sku = StockKeepingUnit { Value = ELCP470UF25V } }</code></span></summary><div><table><thead><tr></tr></thead><tbody><tr><td>Id</td><td><div class=\"dni-plaintext\"><pre>5b097f21-c159-495a-ae3a-5eff914baf8d</pre></div></td></tr><tr><td>Name</td><td>Capacitor 470uF 25V</td></tr><tr><td>Sku</td><td><details class=\"dni-treeview\"><summary><span class=\"dni-code-hint\"><code>StockKeepingUnit { Value = ELCP470UF25V }</code></span></summary><div><table><thead><tr></tr></thead><tbody><tr><td>Value</td><td>ELCP470UF25V</td></tr></tbody></table></div></details></td></tr></tbody></table></div></details></td></tr><tr><td>8</td><td><details class=\"dni-treeview\"><summary><span class=\"dni-code-hint\"><code>Part { Id = c3709b6f-b360-4a16-af56-3178380b4c8a, Name = Capacitor 100uF 25V, Sku = StockKeepingUnit { Value = ELCP100UF25V } }</code></span></summary><div><table><thead><tr></tr></thead><tbody><tr><td>Id</td><td><div class=\"dni-plaintext\"><pre>c3709b6f-b360-4a16-af56-3178380b4c8a</pre></div></td></tr><tr><td>Name</td><td>Capacitor 100uF 25V</td></tr><tr><td>Sku</td><td><details class=\"dni-treeview\"><summary><span class=\"dni-code-hint\"><code>StockKeepingUnit { Value = ELCP100UF25V }</code></span></summary><div><table><thead><tr></tr></thead><tbody><tr><td>Value</td><td>ELCP100UF25V</td></tr></tbody></table></div></details></td></tr></tbody></table></div></details></td></tr><tr><td>9</td><td><details class=\"dni-treeview\"><summary><span class=\"dni-code-hint\"><code>Part { Id = dc6ef82a-ec15-41d4-91fd-aee3d8922c97, Name = Battery 9V, Sku = StockKeepingUnit { Value = BT9V } }</code></span></summary><div><table><thead><tr></tr></thead><tbody><tr><td>Id</td><td><div class=\"dni-plaintext\"><pre>dc6ef82a-ec15-41d4-91fd-aee3d8922c97</pre></div></td></tr><tr><td>Name</td><td>Battery 9V</td></tr><tr><td>Sku</td><td><details class=\"dni-treeview\"><summary><span class=\"dni-code-hint\"><code>StockKeepingUnit { Value = BT9V }</code></span></summary><div><table><thead><tr></tr></thead><tbody><tr><td>Value</td><td>BT9V</td></tr></tbody></table></div></details></td></tr></tbody></table></div></details></td></tr><tr><td>10</td><td><details class=\"dni-treeview\"><summary><span class=\"dni-code-hint\"><code>Part { Id = 82f5b387-db0a-444d-98ba-6f6d522a2690, Name = Battery clipper Type A, Sku = StockKeepingUnit { Value = BTCLA } }</code></span></summary><div><table><thead><tr></tr></thead><tbody><tr><td>Id</td><td><div class=\"dni-plaintext\"><pre>82f5b387-db0a-444d-98ba-6f6d522a2690</pre></div></td></tr><tr><td>Name</td><td>Battery clipper Type A</td></tr><tr><td>Sku</td><td><details class=\"dni-treeview\"><summary><span class=\"dni-code-hint\"><code>StockKeepingUnit { Value = BTCLA }</code></span></summary><div><table><thead><tr></tr></thead><tbody><tr><td>Value</td><td>BTCLA</td></tr></tbody></table></div></details></td></tr></tbody></table></div></details></td></tr></tbody></table><style>\r\n",
       ".dni-code-hint {\r\n",
       "    font-style: italic;\r\n",
       "    overflow: hidden;\r\n",
       "    white-space: nowrap;\r\n",
       "}\r\n",
       ".dni-treeview {\r\n",
       "    white-space: nowrap;\r\n",
       "}\r\n",
       ".dni-treeview td {\r\n",
       "    vertical-align: top;\r\n",
       "    text-align: start;\r\n",
       "}\r\n",
       "details.dni-treeview {\r\n",
       "    padding-left: 1em;\r\n",
       "}\r\n",
       "table td {\r\n",
       "    text-align: start;\r\n",
       "}\r\n",
       "table tr { \r\n",
       "    vertical-align: top; \r\n",
       "    margin: 0em 0px;\r\n",
       "}\r\n",
       "table tr td pre \r\n",
       "{ \r\n",
       "    vertical-align: top !important; \r\n",
       "    margin: 0em 0px !important;\r\n",
       "} \r\n",
       "table th {\r\n",
       "    text-align: start;\r\n",
       "}\r\n",
       "</style>"
      ]
     },
     "metadata": {},
     "output_type": "display_data"
    }
   ],
   "source": [
    "partsRepository.GetAll()"
   ]
  },
  {
   "cell_type": "code",
   "execution_count": 15,
   "metadata": {
    "dotnet_interactive": {
     "language": "csharp"
    },
    "polyglot_notebook": {
     "kernelName": "csharp"
    }
   },
   "outputs": [
    {
     "data": {
      "text/html": [
       "<details open=\"open\" class=\"dni-treeview\"><summary><span class=\"dni-code-hint\"><code>Part { Id = b3441757-1a73-4271-9d91-5c0bd48cf527, Name = Transistor BC547, Sku = StockKeepingUnit { Value = ELTRBC547 } }</code></span></summary><div><table><thead><tr></tr></thead><tbody><tr><td>Id</td><td><div class=\"dni-plaintext\"><pre>b3441757-1a73-4271-9d91-5c0bd48cf527</pre></div></td></tr><tr><td>Name</td><td>Transistor BC547</td></tr><tr><td>Sku</td><td><details class=\"dni-treeview\"><summary><span class=\"dni-code-hint\"><code>StockKeepingUnit { Value = ELTRBC547 }</code></span></summary><div><table><thead><tr></tr></thead><tbody><tr><td>Value</td><td>ELTRBC547</td></tr></tbody></table></div></details></td></tr></tbody></table></div></details><style>\r\n",
       ".dni-code-hint {\r\n",
       "    font-style: italic;\r\n",
       "    overflow: hidden;\r\n",
       "    white-space: nowrap;\r\n",
       "}\r\n",
       ".dni-treeview {\r\n",
       "    white-space: nowrap;\r\n",
       "}\r\n",
       ".dni-treeview td {\r\n",
       "    vertical-align: top;\r\n",
       "    text-align: start;\r\n",
       "}\r\n",
       "details.dni-treeview {\r\n",
       "    padding-left: 1em;\r\n",
       "}\r\n",
       "table td {\r\n",
       "    text-align: start;\r\n",
       "}\r\n",
       "table tr { \r\n",
       "    vertical-align: top; \r\n",
       "    margin: 0em 0px;\r\n",
       "}\r\n",
       "table tr td pre \r\n",
       "{ \r\n",
       "    vertical-align: top !important; \r\n",
       "    margin: 0em 0px !important;\r\n",
       "} \r\n",
       "table th {\r\n",
       "    text-align: start;\r\n",
       "}\r\n",
       "</style>"
      ]
     },
     "metadata": {},
     "output_type": "display_data"
    }
   ],
   "source": [
    "partsRepository.Find(new Guid(\"b3441757-1a73-4271-9d91-5c0bd48cf527\"))"
   ]
  },
  {
   "cell_type": "code",
   "execution_count": 16,
   "metadata": {
    "dotnet_interactive": {
     "language": "csharp"
    },
    "polyglot_notebook": {
     "kernelName": "csharp"
    }
   },
   "outputs": [
    {
     "ename": "Error",
     "evalue": "System.InvalidOperationException: Sequence contains no matching element\n   at System.Linq.ThrowHelper.ThrowNoMatchException()\n   at System.Linq.Enumerable.Single[TSource](IEnumerable`1 source, Func`2 predicate)\n   at TestPersistence.PartsReadRepository.Find(Guid id) in /Users/mora/Developer/playground/functional-csharp-10/TestPersistence/PartsReadRepository.cs:line 26\n   at Submission#17.<<Initialize>>d__0.MoveNext()\n--- End of stack trace from previous location ---\n   at Microsoft.CodeAnalysis.Scripting.ScriptExecutionState.RunSubmissionsAsync[TResult](ImmutableArray`1 precedingExecutors, Func`2 currentExecutor, StrongBox`1 exceptionHolderOpt, Func`2 catchExceptionOpt, CancellationToken cancellationToken)",
     "output_type": "error",
     "traceback": [
      "System.InvalidOperationException: Sequence contains no matching element\n",
      "   at System.Linq.ThrowHelper.ThrowNoMatchException()\n",
      "   at System.Linq.Enumerable.Single[TSource](IEnumerable`1 source, Func`2 predicate)\n",
      "   at TestPersistence.PartsReadRepository.Find(Guid id) in /Users/mora/Developer/playground/functional-csharp-10/TestPersistence/PartsReadRepository.cs:line 26\n",
      "   at Submission#17.<<Initialize>>d__0.MoveNext()\n",
      "--- End of stack trace from previous location ---\n",
      "   at Microsoft.CodeAnalysis.Scripting.ScriptExecutionState.RunSubmissionsAsync[TResult](ImmutableArray`1 precedingExecutors, Func`2 currentExecutor, StrongBox`1 exceptionHolderOpt, Func`2 catchExceptionOpt, CancellationToken cancellationToken)"
     ]
    }
   ],
   "source": [
    "partsRepository.Find(new Guid(\"b3441757-1a73-4271-9d91-5c0bd48cf537\"))"
   ]
  },
  {
   "cell_type": "code",
   "execution_count": null,
   "metadata": {
    "dotnet_interactive": {
     "language": "csharp"
    },
    "polyglot_notebook": {
     "kernelName": "csharp"
    }
   },
   "outputs": [],
   "source": []
  }
 ],
 "metadata": {
  "kernelspec": {
   "display_name": ".NET (C#)",
   "language": "C#",
   "name": ".net-csharp"
  },
  "language_info": {
   "name": "polyglot-notebook"
  },
  "polyglot_notebook": {
   "kernelInfo": {
    "defaultKernelName": "csharp",
    "items": [
     {
      "aliases": [],
      "languageName": "csharp",
      "name": "csharp"
     }
    ]
   }
  }
 },
 "nbformat": 4,
 "nbformat_minor": 2
}
