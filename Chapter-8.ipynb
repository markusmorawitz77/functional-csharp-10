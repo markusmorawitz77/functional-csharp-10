{
 "cells": [
  {
   "cell_type": "code",
   "execution_count": 1,
   "metadata": {
    "dotnet_interactive": {
     "language": "csharp"
    },
    "polyglot_notebook": {
     "kernelName": "csharp"
    }
   },
   "outputs": [],
   "source": [
    "#r \"./Models/bin/Debug/net7.0/Models.dll\"\n",
    "#r \"./TestPersistence/bin/Debug/net7.0/TestPersistence.dll\""
   ]
  },
  {
   "cell_type": "code",
   "execution_count": 2,
   "metadata": {
    "dotnet_interactive": {
     "language": "csharp"
    },
    "polyglot_notebook": {
     "kernelName": "csharp"
    }
   },
   "outputs": [],
   "source": [
    "using TestPersistence;\n",
    "PartsReadRepository partsRepository = new();"
   ]
  },
  {
   "cell_type": "code",
   "execution_count": 3,
   "metadata": {
    "dotnet_interactive": {
     "language": "csharp"
    },
    "polyglot_notebook": {
     "kernelName": "csharp"
    }
   },
   "outputs": [
    {
     "data": {
      "text/html": [
       "<table><thead><tr><th><i>index</i></th><th>value</th></tr></thead><tbody><tr><td>0</td><td><details class=\"dni-treeview\"><summary><span class=\"dni-code-hint\"><code>Part { Id = 2a795b11-78ed-4cde-a265-cb0afe85144f, Name = Transistor BC547, Sku = StockKeepingUnit { Value = ELTRBC547 } }</code></span></summary><div><table><thead><tr></tr></thead><tbody><tr><td>Id</td><td><div class=\"dni-plaintext\"><pre>2a795b11-78ed-4cde-a265-cb0afe85144f</pre></div></td></tr><tr><td>Name</td><td>Transistor BC547</td></tr><tr><td>Sku</td><td><details class=\"dni-treeview\"><summary><span class=\"dni-code-hint\"><code>StockKeepingUnit { Value = ELTRBC547 }</code></span></summary><div><table><thead><tr></tr></thead><tbody><tr><td>Value</td><td>ELTRBC547</td></tr></tbody></table></div></details></td></tr></tbody></table></div></details></td></tr><tr><td>1</td><td><details class=\"dni-treeview\"><summary><span class=\"dni-code-hint\"><code>Part { Id = fd0e579a-03fd-4586-b808-f402a9d68071, Name = Resistor 1K, Sku = StockKeepingUnit { Value = ELRS1K } }</code></span></summary><div><table><thead><tr></tr></thead><tbody><tr><td>Id</td><td><div class=\"dni-plaintext\"><pre>fd0e579a-03fd-4586-b808-f402a9d68071</pre></div></td></tr><tr><td>Name</td><td>Resistor 1K</td></tr><tr><td>Sku</td><td><details class=\"dni-treeview\"><summary><span class=\"dni-code-hint\"><code>StockKeepingUnit { Value = ELRS1K }</code></span></summary><div><table><thead><tr></tr></thead><tbody><tr><td>Value</td><td>ELRS1K</td></tr></tbody></table></div></details></td></tr></tbody></table></div></details></td></tr><tr><td>2</td><td><details class=\"dni-treeview\"><summary><span class=\"dni-code-hint\"><code>Part { Id = 61962a52-f5fe-40f3-a73b-b16866aad7bf, Name = Resistor 100K, Sku = StockKeepingUnit { Value = ELRS100K } }</code></span></summary><div><table><thead><tr></tr></thead><tbody><tr><td>Id</td><td><div class=\"dni-plaintext\"><pre>61962a52-f5fe-40f3-a73b-b16866aad7bf</pre></div></td></tr><tr><td>Name</td><td>Resistor 100K</td></tr><tr><td>Sku</td><td><details class=\"dni-treeview\"><summary><span class=\"dni-code-hint\"><code>StockKeepingUnit { Value = ELRS100K }</code></span></summary><div><table><thead><tr></tr></thead><tbody><tr><td>Value</td><td>ELRS100K</td></tr></tbody></table></div></details></td></tr></tbody></table></div></details></td></tr><tr><td>3</td><td><details class=\"dni-treeview\"><summary><span class=\"dni-code-hint\"><code>Part { Id = 669d1be9-3953-4a06-9522-b79ac438f4de, Name = Resistor 33K, Sku = StockKeepingUnit { Value = ELRS33K } }</code></span></summary><div><table><thead><tr></tr></thead><tbody><tr><td>Id</td><td><div class=\"dni-plaintext\"><pre>669d1be9-3953-4a06-9522-b79ac438f4de</pre></div></td></tr><tr><td>Name</td><td>Resistor 33K</td></tr><tr><td>Sku</td><td><details class=\"dni-treeview\"><summary><span class=\"dni-code-hint\"><code>StockKeepingUnit { Value = ELRS33K }</code></span></summary><div><table><thead><tr></tr></thead><tbody><tr><td>Value</td><td>ELRS33K</td></tr></tbody></table></div></details></td></tr></tbody></table></div></details></td></tr><tr><td>4</td><td><details class=\"dni-treeview\"><summary><span class=\"dni-code-hint\"><code>Part { Id = 36143a3a-ef6a-4db3-9d54-a0cb9e962084, Name = LED Red 3V, Sku = StockKeepingUnit { Value = ELLD3VRED } }</code></span></summary><div><table><thead><tr></tr></thead><tbody><tr><td>Id</td><td><div class=\"dni-plaintext\"><pre>36143a3a-ef6a-4db3-9d54-a0cb9e962084</pre></div></td></tr><tr><td>Name</td><td>LED Red 3V</td></tr><tr><td>Sku</td><td><details class=\"dni-treeview\"><summary><span class=\"dni-code-hint\"><code>StockKeepingUnit { Value = ELLD3VRED }</code></span></summary><div><table><thead><tr></tr></thead><tbody><tr><td>Value</td><td>ELLD3VRED</td></tr></tbody></table></div></details></td></tr></tbody></table></div></details></td></tr><tr><td>5</td><td><details class=\"dni-treeview\"><summary><span class=\"dni-code-hint\"><code>Part { Id = 0c61c687-e658-4480-a858-36955a027065, Name = LED Yellow 3V, Sku = StockKeepingUnit { Value = ELLD3VYELLOW } }</code></span></summary><div><table><thead><tr></tr></thead><tbody><tr><td>Id</td><td><div class=\"dni-plaintext\"><pre>0c61c687-e658-4480-a858-36955a027065</pre></div></td></tr><tr><td>Name</td><td>LED Yellow 3V</td></tr><tr><td>Sku</td><td><details class=\"dni-treeview\"><summary><span class=\"dni-code-hint\"><code>StockKeepingUnit { Value = ELLD3VYELLOW }</code></span></summary><div><table><thead><tr></tr></thead><tbody><tr><td>Value</td><td>ELLD3VYELLOW</td></tr></tbody></table></div></details></td></tr></tbody></table></div></details></td></tr><tr><td>6</td><td><details class=\"dni-treeview\"><summary><span class=\"dni-code-hint\"><code>Part { Id = 1d97ae09-40ad-41a8-86d0-4a159a9b1c91, Name = LED Green 3V, Sku = StockKeepingUnit { Value = ELLD3VGREEN } }</code></span></summary><div><table><thead><tr></tr></thead><tbody><tr><td>Id</td><td><div class=\"dni-plaintext\"><pre>1d97ae09-40ad-41a8-86d0-4a159a9b1c91</pre></div></td></tr><tr><td>Name</td><td>LED Green 3V</td></tr><tr><td>Sku</td><td><details class=\"dni-treeview\"><summary><span class=\"dni-code-hint\"><code>StockKeepingUnit { Value = ELLD3VGREEN }</code></span></summary><div><table><thead><tr></tr></thead><tbody><tr><td>Value</td><td>ELLD3VGREEN</td></tr></tbody></table></div></details></td></tr></tbody></table></div></details></td></tr><tr><td>7</td><td><details class=\"dni-treeview\"><summary><span class=\"dni-code-hint\"><code>Part { Id = 19dd66b6-4aef-46e6-9219-14e93b2918e3, Name = Capacitor 470uF 25V, Sku = StockKeepingUnit { Value = ELCP470UF25V } }</code></span></summary><div><table><thead><tr></tr></thead><tbody><tr><td>Id</td><td><div class=\"dni-plaintext\"><pre>19dd66b6-4aef-46e6-9219-14e93b2918e3</pre></div></td></tr><tr><td>Name</td><td>Capacitor 470uF 25V</td></tr><tr><td>Sku</td><td><details class=\"dni-treeview\"><summary><span class=\"dni-code-hint\"><code>StockKeepingUnit { Value = ELCP470UF25V }</code></span></summary><div><table><thead><tr></tr></thead><tbody><tr><td>Value</td><td>ELCP470UF25V</td></tr></tbody></table></div></details></td></tr></tbody></table></div></details></td></tr><tr><td>8</td><td><details class=\"dni-treeview\"><summary><span class=\"dni-code-hint\"><code>Part { Id = 4175701c-7ef6-4b71-b854-3f5979287327, Name = Capacitor 100uF 25V, Sku = StockKeepingUnit { Value = ELCP100UF25V } }</code></span></summary><div><table><thead><tr></tr></thead><tbody><tr><td>Id</td><td><div class=\"dni-plaintext\"><pre>4175701c-7ef6-4b71-b854-3f5979287327</pre></div></td></tr><tr><td>Name</td><td>Capacitor 100uF 25V</td></tr><tr><td>Sku</td><td><details class=\"dni-treeview\"><summary><span class=\"dni-code-hint\"><code>StockKeepingUnit { Value = ELCP100UF25V }</code></span></summary><div><table><thead><tr></tr></thead><tbody><tr><td>Value</td><td>ELCP100UF25V</td></tr></tbody></table></div></details></td></tr></tbody></table></div></details></td></tr><tr><td>9</td><td><details class=\"dni-treeview\"><summary><span class=\"dni-code-hint\"><code>Part { Id = 2d72eba1-898c-4554-864c-f6deeb421497, Name = Battery 9V, Sku = StockKeepingUnit { Value = BT9V } }</code></span></summary><div><table><thead><tr></tr></thead><tbody><tr><td>Id</td><td><div class=\"dni-plaintext\"><pre>2d72eba1-898c-4554-864c-f6deeb421497</pre></div></td></tr><tr><td>Name</td><td>Battery 9V</td></tr><tr><td>Sku</td><td><details class=\"dni-treeview\"><summary><span class=\"dni-code-hint\"><code>StockKeepingUnit { Value = BT9V }</code></span></summary><div><table><thead><tr></tr></thead><tbody><tr><td>Value</td><td>BT9V</td></tr></tbody></table></div></details></td></tr></tbody></table></div></details></td></tr><tr><td>10</td><td><details class=\"dni-treeview\"><summary><span class=\"dni-code-hint\"><code>Part { Id = f7400aa0-fa5d-48c0-8225-8f8ffd54b959, Name = Battery clipper Type A, Sku = StockKeepingUnit { Value = BTCLA } }</code></span></summary><div><table><thead><tr></tr></thead><tbody><tr><td>Id</td><td><div class=\"dni-plaintext\"><pre>f7400aa0-fa5d-48c0-8225-8f8ffd54b959</pre></div></td></tr><tr><td>Name</td><td>Battery clipper Type A</td></tr><tr><td>Sku</td><td><details class=\"dni-treeview\"><summary><span class=\"dni-code-hint\"><code>StockKeepingUnit { Value = BTCLA }</code></span></summary><div><table><thead><tr></tr></thead><tbody><tr><td>Value</td><td>BTCLA</td></tr></tbody></table></div></details></td></tr></tbody></table></div></details></td></tr></tbody></table><style>\r\n",
       ".dni-code-hint {\r\n",
       "    font-style: italic;\r\n",
       "    overflow: hidden;\r\n",
       "    white-space: nowrap;\r\n",
       "}\r\n",
       ".dni-treeview {\r\n",
       "    white-space: nowrap;\r\n",
       "}\r\n",
       ".dni-treeview td {\r\n",
       "    vertical-align: top;\r\n",
       "    text-align: start;\r\n",
       "}\r\n",
       "details.dni-treeview {\r\n",
       "    padding-left: 1em;\r\n",
       "}\r\n",
       "table td {\r\n",
       "    text-align: start;\r\n",
       "}\r\n",
       "table tr { \r\n",
       "    vertical-align: top; \r\n",
       "    margin: 0em 0px;\r\n",
       "}\r\n",
       "table tr td pre \r\n",
       "{ \r\n",
       "    vertical-align: top !important; \r\n",
       "    margin: 0em 0px !important;\r\n",
       "} \r\n",
       "table th {\r\n",
       "    text-align: start;\r\n",
       "}\r\n",
       "</style>"
      ]
     },
     "metadata": {},
     "output_type": "display_data"
    }
   ],
   "source": [
    "partsRepository.GetAll()"
   ]
  },
  {
   "cell_type": "code",
   "execution_count": 4,
   "metadata": {
    "dotnet_interactive": {
     "language": "csharp"
    },
    "polyglot_notebook": {
     "kernelName": "csharp"
    }
   },
   "outputs": [
    {
     "data": {
      "text/html": [
       "<table><thead><tr><th><i>index</i></th><th>value</th></tr></thead><tbody><tr><td>0</td><td><details class=\"dni-treeview\"><summary><span class=\"dni-code-hint\"><code>Part { Id = 2a795b11-78ed-4cde-a265-cb0afe85144f, Name = Transistor BC547, Sku = StockKeepingUnit { Value = ELTRBC547 } }</code></span></summary><div><table><thead><tr></tr></thead><tbody><tr><td>Id</td><td><div class=\"dni-plaintext\"><pre>2a795b11-78ed-4cde-a265-cb0afe85144f</pre></div></td></tr><tr><td>Name</td><td>Transistor BC547</td></tr><tr><td>Sku</td><td><details class=\"dni-treeview\"><summary><span class=\"dni-code-hint\"><code>StockKeepingUnit { Value = ELTRBC547 }</code></span></summary><div><table><thead><tr></tr></thead><tbody><tr><td>Value</td><td>ELTRBC547</td></tr></tbody></table></div></details></td></tr></tbody></table></div></details></td></tr></tbody></table><style>\r\n",
       ".dni-code-hint {\r\n",
       "    font-style: italic;\r\n",
       "    overflow: hidden;\r\n",
       "    white-space: nowrap;\r\n",
       "}\r\n",
       ".dni-treeview {\r\n",
       "    white-space: nowrap;\r\n",
       "}\r\n",
       ".dni-treeview td {\r\n",
       "    vertical-align: top;\r\n",
       "    text-align: start;\r\n",
       "}\r\n",
       "details.dni-treeview {\r\n",
       "    padding-left: 1em;\r\n",
       "}\r\n",
       "table td {\r\n",
       "    text-align: start;\r\n",
       "}\r\n",
       "table tr { \r\n",
       "    vertical-align: top; \r\n",
       "    margin: 0em 0px;\r\n",
       "}\r\n",
       "table tr td pre \r\n",
       "{ \r\n",
       "    vertical-align: top !important; \r\n",
       "    margin: 0em 0px !important;\r\n",
       "} \r\n",
       "table th {\r\n",
       "    text-align: start;\r\n",
       "}\r\n",
       "</style>"
      ]
     },
     "metadata": {},
     "output_type": "display_data"
    }
   ],
   "source": [
    "partsRepository.TryFind(partsRepository.GetAll().First().Id)"
   ]
  },
  {
   "cell_type": "code",
   "execution_count": 5,
   "metadata": {
    "dotnet_interactive": {
     "language": "csharp"
    },
    "polyglot_notebook": {
     "kernelName": "csharp"
    }
   },
   "outputs": [
    {
     "data": {
      "text/html": [
       "<i>(empty)</i><style>\r\n",
       ".dni-code-hint {\r\n",
       "    font-style: italic;\r\n",
       "    overflow: hidden;\r\n",
       "    white-space: nowrap;\r\n",
       "}\r\n",
       ".dni-treeview {\r\n",
       "    white-space: nowrap;\r\n",
       "}\r\n",
       ".dni-treeview td {\r\n",
       "    vertical-align: top;\r\n",
       "    text-align: start;\r\n",
       "}\r\n",
       "details.dni-treeview {\r\n",
       "    padding-left: 1em;\r\n",
       "}\r\n",
       "table td {\r\n",
       "    text-align: start;\r\n",
       "}\r\n",
       "table tr { \r\n",
       "    vertical-align: top; \r\n",
       "    margin: 0em 0px;\r\n",
       "}\r\n",
       "table tr td pre \r\n",
       "{ \r\n",
       "    vertical-align: top !important; \r\n",
       "    margin: 0em 0px !important;\r\n",
       "} \r\n",
       "table th {\r\n",
       "    text-align: start;\r\n",
       "}\r\n",
       "</style>"
      ]
     },
     "metadata": {},
     "output_type": "display_data"
    }
   ],
   "source": [
    "partsRepository.TryFind(new Guid(\"b3441757-1a73-4271-9d91-5c0bd48cf537\"))"
   ]
  },
  {
   "cell_type": "markdown",
   "metadata": {},
   "source": [
    "# Option"
   ]
  },
  {
   "cell_type": "code",
   "execution_count": 6,
   "metadata": {
    "dotnet_interactive": {
     "language": "csharp"
    },
    "polyglot_notebook": {
     "kernelName": "csharp"
    }
   },
   "outputs": [],
   "source": [
    "using Models.Types.Common;\n",
    "using Models.Types.Components;"
   ]
  },
  {
   "cell_type": "code",
   "execution_count": 7,
   "metadata": {
    "dotnet_interactive": {
     "language": "csharp"
    },
    "polyglot_notebook": {
     "kernelName": "csharp"
    }
   },
   "outputs": [
    {
     "data": {
      "text/html": [
       "<details open=\"open\" class=\"dni-treeview\"><summary><span class=\"dni-code-hint\"><code>Part { Id = 606dbe27-8076-41fa-b8af-fbeded1142f8, Name = Transistor BC547, Sku = StockKeepingUnit { Value = ELTRBC547 } }</code></span></summary><div><table><thead><tr></tr></thead><tbody><tr><td>Id</td><td><div class=\"dni-plaintext\"><pre>606dbe27-8076-41fa-b8af-fbeded1142f8</pre></div></td></tr><tr><td>Name</td><td>Transistor BC547</td></tr><tr><td>Sku</td><td><details class=\"dni-treeview\"><summary><span class=\"dni-code-hint\"><code>StockKeepingUnit { Value = ELTRBC547 }</code></span></summary><div><table><thead><tr></tr></thead><tbody><tr><td>Value</td><td>ELTRBC547</td></tr></tbody></table></div></details></td></tr></tbody></table></div></details><style>\r\n",
       ".dni-code-hint {\r\n",
       "    font-style: italic;\r\n",
       "    overflow: hidden;\r\n",
       "    white-space: nowrap;\r\n",
       "}\r\n",
       ".dni-treeview {\r\n",
       "    white-space: nowrap;\r\n",
       "}\r\n",
       ".dni-treeview td {\r\n",
       "    vertical-align: top;\r\n",
       "    text-align: start;\r\n",
       "}\r\n",
       "details.dni-treeview {\r\n",
       "    padding-left: 1em;\r\n",
       "}\r\n",
       "table td {\r\n",
       "    text-align: start;\r\n",
       "}\r\n",
       "table tr { \r\n",
       "    vertical-align: top; \r\n",
       "    margin: 0em 0px;\r\n",
       "}\r\n",
       "table tr td pre \r\n",
       "{ \r\n",
       "    vertical-align: top !important; \r\n",
       "    margin: 0em 0px !important;\r\n",
       "} \r\n",
       "table th {\r\n",
       "    text-align: start;\r\n",
       "}\r\n",
       "</style>"
      ]
     },
     "metadata": {},
     "output_type": "display_data"
    }
   ],
   "source": [
    "Part bc547 = new(Guid.NewGuid(), \"Transistor BC547\", new StockKeepingUnit(\"ELTRBC547\"));\n",
    "display(bc547);"
   ]
  },
  {
   "cell_type": "code",
   "execution_count": 8,
   "metadata": {
    "dotnet_interactive": {
     "language": "csharp"
    },
    "polyglot_notebook": {
     "kernelName": "csharp"
    }
   },
   "outputs": [],
   "source": [
    "void Report(params object[] items)\n",
    "{\n",
    "    foreach (object item in items) System.Console.WriteLine(item);\n",
    "    System.Console.WriteLine(new string('-', 80));\n",
    "}"
   ]
  },
  {
   "cell_type": "code",
   "execution_count": 9,
   "metadata": {
    "dotnet_interactive": {
     "language": "csharp"
    },
    "polyglot_notebook": {
     "kernelName": "csharp"
    }
   },
   "outputs": [],
   "source": [
    "Option<Part> a = new Some<Part>(bc547);\n",
    "Option<Part> b = new None<Part>();"
   ]
  },
  {
   "cell_type": "code",
   "execution_count": 10,
   "metadata": {
    "dotnet_interactive": {
     "language": "csharp"
    },
    "polyglot_notebook": {
     "kernelName": "csharp"
    }
   },
   "outputs": [
    {
     "name": "stdout",
     "output_type": "stream",
     "text": [
      "Some Part { Id = 606dbe27-8076-41fa-b8af-fbeded1142f8, Name = Transistor BC547, Sku = StockKeepingUnit { Value = ELTRBC547 } }\n",
      "None\n",
      "--------------------------------------------------------------------------------\n"
     ]
    }
   ],
   "source": [
    "Report(a, b);"
   ]
  },
  {
   "cell_type": "code",
   "execution_count": 11,
   "metadata": {
    "dotnet_interactive": {
     "language": "csharp"
    },
    "polyglot_notebook": {
     "kernelName": "csharp"
    }
   },
   "outputs": [
    {
     "name": "stdout",
     "output_type": "stream",
     "text": [
      "Some Part { Id = 606dbe27-8076-41fa-b8af-fbeded1142f8, Name = BC547, Sku = StockKeepingUnit { Value = ELTRBC547 } }\n",
      "None\n",
      "--------------------------------------------------------------------------------\n"
     ]
    }
   ],
   "source": [
    "Report(\n",
    "    a.Map(part => part with { Name = \"BC547\" }),\n",
    "    b.Map(part => part with { Name = \"BC547\" })\n",
    ");"
   ]
  },
  {
   "cell_type": "code",
   "execution_count": 12,
   "metadata": {
    "dotnet_interactive": {
     "language": "csharp"
    },
    "polyglot_notebook": {
     "kernelName": "csharp"
    }
   },
   "outputs": [],
   "source": []
  }
 ],
 "metadata": {
  "kernelspec": {
   "display_name": ".NET (C#)",
   "language": "C#",
   "name": ".net-csharp"
  },
  "language_info": {
   "name": "polyglot-notebook"
  },
  "polyglot_notebook": {
   "kernelInfo": {
    "defaultKernelName": "csharp",
    "items": [
     {
      "aliases": [],
      "languageName": "csharp",
      "name": "csharp"
     }
    ]
   }
  }
 },
 "nbformat": 4,
 "nbformat_minor": 2
}
